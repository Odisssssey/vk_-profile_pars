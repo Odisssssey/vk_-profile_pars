{
 "cells": [
  {
   "cell_type": "code",
   "execution_count": 144,
   "metadata": {
    "collapsed": false
   },
   "outputs": [],
   "source": [
    "from urllib.parse import urlencode, urlparse\n",
    "import requests\n",
    "import math\n",
    "import pandas as pd\n",
    "import matplotlib.pyplot as plt\n",
    "import datetime\n",
    "\n",
    "%matplotlib inline"
   ]
  },
  {
   "cell_type": "code",
   "execution_count": 145,
   "metadata": {
    "collapsed": false
   },
   "outputs": [
    {
     "name": "stdout",
     "output_type": "stream",
     "text": [
      "https://oauth.vk.com/authorize?client_id=5854786&display=mobile&response_type=token&scope=friends%2C+groups&v=5.63\n"
     ]
    }
   ],
   "source": [
    "#получаем ссылку для получения токена\n",
    "AUTHORIZE_URL = 'https://oauth.vk.com/authorize'\n",
    "VERSION = '5.63'\n",
    "APP_ID = 5854786\n",
    "\n",
    "auth_data = {\n",
    "    'client_id': APP_ID,\n",
    "    'display': 'mobile',\n",
    "    'response_type': 'token',\n",
    "    'scope': 'friends, groups',\n",
    "    'v': VERSION,\n",
    "}\n",
    "\n",
    "print('?'.join((AUTHORIZE_URL, urlencode(auth_data))))"
   ]
  },
  {
   "cell_type": "code",
   "execution_count": 146,
   "metadata": {
    "collapsed": false
   },
   "outputs": [],
   "source": [
    "# Переходим по полученной ссылке и копируем ее в строку \"token_url\"\n",
    "token_url = #в даннуя сроку \n",
    "# вводим id пользователя, по которому будем искать информацию\n",
    "need_id = # id пищем сюда\n",
    "\n",
    "o = urlparse(token_url)\n",
    "fragments = dict((i.split('=') for i in o.fragment.split('&')))\n",
    "access_token = fragments['access_token']\n",
    "\n",
    "\n",
    "params = {'access_token': access_token,\n",
    "          'user_id' : need_id,\n",
    "          'v': VERSION}\n",
    "\n",
    "\n",
    "response = requests.get('https://api.vk.com/method/friends.get', params)"
   ]
  },
  {
   "cell_type": "code",
   "execution_count": 147,
   "metadata": {
    "collapsed": false
   },
   "outputs": [],
   "source": [
    "# получаем друзей пользователя\n",
    "friends = response.json()['response']['items']"
   ]
  },
  {
   "cell_type": "code",
   "execution_count": 148,
   "metadata": {
    "collapsed": false
   },
   "outputs": [],
   "source": [
    "params_for_follovers = {'access_token': access_token,\n",
    "          'user_id' : need_id,\n",
    "          'count' : 1000,              \n",
    "          'v': VERSION}\n",
    "\n",
    "\n",
    "response_follover = requests.get('https://api.vk.com/method/users.getFollowers', params_for_follovers)"
   ]
  },
  {
   "cell_type": "code",
   "execution_count": 149,
   "metadata": {
    "collapsed": false
   },
   "outputs": [],
   "source": [
    "# получаем всех подписчиков пользователя\n",
    "follovers = response_follover.json()['response']['items']\n",
    "response_count_follover = response_follover.json()['response']['count']\n",
    "count_step = math.ceil(response_count_follover/1000)"
   ]
  },
  {
   "cell_type": "code",
   "execution_count": 150,
   "metadata": {
    "collapsed": false
   },
   "outputs": [],
   "source": [
    "offset = 0\n",
    "if(count_step>1):\n",
    "    while(count_step>1):\n",
    "        count_step = count_step - 1\n",
    "        offset += 1000\n",
    "        params_for_follovers = {'access_token': access_token,\n",
    "          'user_id' : need_id,\n",
    "          'count' : 1000,\n",
    "          'offset' : offset,\n",
    "          'v': VERSION}\n",
    "\n",
    "        response_follover = requests.get('https://api.vk.com/method/users.getFollowers', params_for_follovers)\n",
    "        try:\n",
    "            follovers += response_follover.json()['response']['items']\n",
    "        except KeyError:\n",
    "            count_step = count_step + 1\n",
    "            offset -= 1000 "
   ]
  },
  {
   "cell_type": "code",
   "execution_count": 151,
   "metadata": {
    "collapsed": false
   },
   "outputs": [],
   "source": [
    "# получаем всех искомых пользователей\n",
    "ol_follov_and_friend = follovers + friends"
   ]
  },
  {
   "cell_type": "code",
   "execution_count": 152,
   "metadata": {
    "collapsed": false
   },
   "outputs": [
    {
     "name": "stdout",
     "output_type": "stream",
     "text": [
      "Получение групп началось. Это займет продолжительное время.\n",
      "готово!\n"
     ]
    }
   ],
   "source": [
    "# Получаем все группы пользователей\n",
    "def get_groups_friends(access_token, id):\n",
    "    params_for_groups_friends = {'access_token': access_token,\n",
    "          'user_id' : id,\n",
    "          'extended' : 1,\n",
    "          #'count' : 7,\n",
    "          'v': VERSION}\n",
    "    response_groups_friends = requests.get('https://api.vk.com/method/groups.get', params_for_groups_friends)\n",
    "\n",
    "    try:\n",
    "        groups_info = response_groups_friends.json()['response']['items']\n",
    "\n",
    "    except KeyError:\n",
    "        if(response_groups_friends.json()['error']['error_code'] == 6):\n",
    "            groups_info = get_groups_friends(access_token, id)\n",
    "        groups_info = []\n",
    "    return groups_info\n",
    "\n",
    "group_friends = {}\n",
    "sum_friend_and_follov = len(ol_follov_and_friend)\n",
    "namber_iteration = 0\n",
    "print('Получение групп началось. Это займет продолжительное время.')\n",
    "\n",
    "for id in ol_follov_and_friend:\n",
    "    namber_iteration += 1\n",
    "    if (namber_iteration % 250 == 0):\n",
    "        print('осталось: ' + str(sum_friend_and_follov - namber_iteration))\n",
    "\n",
    "    groups_info = get_groups_friends(access_token, id)\n",
    "    for group_inf_pers in groups_info:\n",
    "        id_clab = group_inf_pers['id']\n",
    "        try:\n",
    "            group_friends[id_clab]['count'] += 1\n",
    "            group_friends[id_clab]['id_user'].append(id)\n",
    "        except KeyError:\n",
    "            group_friends[id_clab] = {'name': group_inf_pers['name'], 'count': 1, 'id_user': [id]}\n",
    "\n",
    "print('готово!')"
   ]
  },
  {
   "cell_type": "code",
   "execution_count": 153,
   "metadata": {
    "collapsed": false
   },
   "outputs": [],
   "source": [
    "# подготавливаем записи для работы с pandas\n",
    "pp_group = []\n",
    "for key, id_gr in group_friends.items():\n",
    "    pp_group.append({'id': key, 'name' : id_gr['name'], 'count': id_gr['count']})"
   ]
  },
  {
   "cell_type": "code",
   "execution_count": 154,
   "metadata": {
    "collapsed": false
   },
   "outputs": [],
   "source": [
    "pp_group_pd = pd.DataFrame(pp_group)"
   ]
  },
  {
   "cell_type": "code",
   "execution_count": 155,
   "metadata": {
    "collapsed": false
   },
   "outputs": [
    {
     "data": {
      "text/html": [
       "<div>\n",
       "<table border=\"1\" class=\"dataframe\">\n",
       "  <thead>\n",
       "    <tr style=\"text-align: right;\">\n",
       "      <th></th>\n",
       "      <th>count</th>\n",
       "      <th>id</th>\n",
       "      <th>name</th>\n",
       "    </tr>\n",
       "  </thead>\n",
       "  <tbody>\n",
       "    <tr>\n",
       "      <th>317</th>\n",
       "      <td>10</td>\n",
       "      <td>24770985</td>\n",
       "      <td>ФИТ | РГСУ</td>\n",
       "    </tr>\n",
       "    <tr>\n",
       "      <th>223</th>\n",
       "      <td>9</td>\n",
       "      <td>39683739</td>\n",
       "      <td>Официальная страница РГСУ</td>\n",
       "    </tr>\n",
       "    <tr>\n",
       "      <th>244</th>\n",
       "      <td>7</td>\n",
       "      <td>58593098</td>\n",
       "      <td>Подслушано в РГСУ</td>\n",
       "    </tr>\n",
       "    <tr>\n",
       "      <th>164</th>\n",
       "      <td>6</td>\n",
       "      <td>54530371</td>\n",
       "      <td>Библиотека программиста</td>\n",
       "    </tr>\n",
       "    <tr>\n",
       "      <th>133</th>\n",
       "      <td>6</td>\n",
       "      <td>76353235</td>\n",
       "      <td>IST-2014</td>\n",
       "    </tr>\n",
       "    <tr>\n",
       "      <th>148</th>\n",
       "      <td>5</td>\n",
       "      <td>82969684</td>\n",
       "      <td>Сессия ФИТиТБ</td>\n",
       "    </tr>\n",
       "    <tr>\n",
       "      <th>0</th>\n",
       "      <td>5</td>\n",
       "      <td>22798006</td>\n",
       "      <td>Киномания</td>\n",
       "    </tr>\n",
       "    <tr>\n",
       "      <th>90</th>\n",
       "      <td>5</td>\n",
       "      <td>56106344</td>\n",
       "      <td>Палата №6</td>\n",
       "    </tr>\n",
       "    <tr>\n",
       "      <th>582</th>\n",
       "      <td>5</td>\n",
       "      <td>16108331</td>\n",
       "      <td>Программирование ITmozg:</td>\n",
       "    </tr>\n",
       "    <tr>\n",
       "      <th>613</th>\n",
       "      <td>4</td>\n",
       "      <td>29559271</td>\n",
       "      <td>Science|Наука</td>\n",
       "    </tr>\n",
       "    <tr>\n",
       "      <th>560</th>\n",
       "      <td>4</td>\n",
       "      <td>31480508</td>\n",
       "      <td>Пикабу</td>\n",
       "    </tr>\n",
       "    <tr>\n",
       "      <th>578</th>\n",
       "      <td>4</td>\n",
       "      <td>20845272</td>\n",
       "      <td>Интересная Москва</td>\n",
       "    </tr>\n",
       "    <tr>\n",
       "      <th>611</th>\n",
       "      <td>4</td>\n",
       "      <td>30602036</td>\n",
       "      <td>IGM</td>\n",
       "    </tr>\n",
       "    <tr>\n",
       "      <th>901</th>\n",
       "      <td>3</td>\n",
       "      <td>76999465</td>\n",
       "      <td>Волонтёрский центр РГСУ</td>\n",
       "    </tr>\n",
       "    <tr>\n",
       "      <th>569</th>\n",
       "      <td>3</td>\n",
       "      <td>31038184</td>\n",
       "      <td>Wylsacom</td>\n",
       "    </tr>\n",
       "    <tr>\n",
       "      <th>563</th>\n",
       "      <td>3</td>\n",
       "      <td>31976785</td>\n",
       "      <td>Наука и Техника</td>\n",
       "    </tr>\n",
       "    <tr>\n",
       "      <th>1</th>\n",
       "      <td>3</td>\n",
       "      <td>12382740</td>\n",
       "      <td>ЁП</td>\n",
       "    </tr>\n",
       "    <tr>\n",
       "      <th>579</th>\n",
       "      <td>3</td>\n",
       "      <td>48398185</td>\n",
       "      <td>ArcheAge</td>\n",
       "    </tr>\n",
       "    <tr>\n",
       "      <th>548</th>\n",
       "      <td>3</td>\n",
       "      <td>59562476</td>\n",
       "      <td>Признания в РГСУ</td>\n",
       "    </tr>\n",
       "    <tr>\n",
       "      <th>165</th>\n",
       "      <td>3</td>\n",
       "      <td>72495085</td>\n",
       "      <td>/dev/null</td>\n",
       "    </tr>\n",
       "    <tr>\n",
       "      <th>1315</th>\n",
       "      <td>3</td>\n",
       "      <td>76132198</td>\n",
       "      <td>Stop Fake! | Полезно знать</td>\n",
       "    </tr>\n",
       "    <tr>\n",
       "      <th>546</th>\n",
       "      <td>3</td>\n",
       "      <td>28261334</td>\n",
       "      <td>TJ</td>\n",
       "    </tr>\n",
       "    <tr>\n",
       "      <th>742</th>\n",
       "      <td>3</td>\n",
       "      <td>40316705</td>\n",
       "      <td>Новости RT на русском</td>\n",
       "    </tr>\n",
       "    <tr>\n",
       "      <th>1273</th>\n",
       "      <td>3</td>\n",
       "      <td>40167434</td>\n",
       "      <td>Английский язык</td>\n",
       "    </tr>\n",
       "    <tr>\n",
       "      <th>138</th>\n",
       "      <td>3</td>\n",
       "      <td>85503405</td>\n",
       "      <td>РГСЮ</td>\n",
       "    </tr>\n",
       "    <tr>\n",
       "      <th>91</th>\n",
       "      <td>3</td>\n",
       "      <td>44759043</td>\n",
       "      <td>Just English</td>\n",
       "    </tr>\n",
       "    <tr>\n",
       "      <th>941</th>\n",
       "      <td>3</td>\n",
       "      <td>44945827</td>\n",
       "      <td>Студенческий сектор профсоюза РГСУ</td>\n",
       "    </tr>\n",
       "    <tr>\n",
       "      <th>98</th>\n",
       "      <td>3</td>\n",
       "      <td>34215577</td>\n",
       "      <td>Подслушано</td>\n",
       "    </tr>\n",
       "    <tr>\n",
       "      <th>1293</th>\n",
       "      <td>3</td>\n",
       "      <td>32015300</td>\n",
       "      <td>Без кота и жизнь не та ツ</td>\n",
       "    </tr>\n",
       "    <tr>\n",
       "      <th>1024</th>\n",
       "      <td>3</td>\n",
       "      <td>40567146</td>\n",
       "      <td>Лайфхак</td>\n",
       "    </tr>\n",
       "    <tr>\n",
       "      <th>...</th>\n",
       "      <td>...</td>\n",
       "      <td>...</td>\n",
       "      <td>...</td>\n",
       "    </tr>\n",
       "    <tr>\n",
       "      <th>656</th>\n",
       "      <td>2</td>\n",
       "      <td>24394525</td>\n",
       "      <td>Студенческий информационный центр РГСУ</td>\n",
       "    </tr>\n",
       "    <tr>\n",
       "      <th>1311</th>\n",
       "      <td>2</td>\n",
       "      <td>30525261</td>\n",
       "      <td>Psychology|Психология</td>\n",
       "    </tr>\n",
       "    <tr>\n",
       "      <th>1310</th>\n",
       "      <td>2</td>\n",
       "      <td>24713873</td>\n",
       "      <td>5 умных мыслей</td>\n",
       "    </tr>\n",
       "    <tr>\n",
       "      <th>584</th>\n",
       "      <td>2</td>\n",
       "      <td>58100272</td>\n",
       "      <td>Sideburn004</td>\n",
       "    </tr>\n",
       "    <tr>\n",
       "      <th>669</th>\n",
       "      <td>2</td>\n",
       "      <td>26750264</td>\n",
       "      <td>5 лучших фильмов</td>\n",
       "    </tr>\n",
       "    <tr>\n",
       "      <th>1009</th>\n",
       "      <td>2</td>\n",
       "      <td>83073167</td>\n",
       "      <td>Философский клуб</td>\n",
       "    </tr>\n",
       "    <tr>\n",
       "      <th>698</th>\n",
       "      <td>2</td>\n",
       "      <td>30666517</td>\n",
       "      <td>Типичный программист</td>\n",
       "    </tr>\n",
       "    <tr>\n",
       "      <th>316</th>\n",
       "      <td>2</td>\n",
       "      <td>53996920</td>\n",
       "      <td>Факультет информационных технологий | РГСУ | IT</td>\n",
       "    </tr>\n",
       "    <tr>\n",
       "      <th>207</th>\n",
       "      <td>2</td>\n",
       "      <td>947906</td>\n",
       "      <td>Blender 3D — Свободный редактор 3D-графики</td>\n",
       "    </tr>\n",
       "    <tr>\n",
       "      <th>696</th>\n",
       "      <td>2</td>\n",
       "      <td>30598666</td>\n",
       "      <td>Как это переводится, Чувак?</td>\n",
       "    </tr>\n",
       "    <tr>\n",
       "      <th>687</th>\n",
       "      <td>2</td>\n",
       "      <td>29302425</td>\n",
       "      <td>Шедевры рекламы</td>\n",
       "    </tr>\n",
       "    <tr>\n",
       "      <th>1475</th>\n",
       "      <td>2</td>\n",
       "      <td>25752703</td>\n",
       "      <td>World of History</td>\n",
       "    </tr>\n",
       "    <tr>\n",
       "      <th>1023</th>\n",
       "      <td>2</td>\n",
       "      <td>27895931</td>\n",
       "      <td>Новинки Музыки 2017</td>\n",
       "    </tr>\n",
       "    <tr>\n",
       "      <th>228</th>\n",
       "      <td>2</td>\n",
       "      <td>68573701</td>\n",
       "      <td>Official Unreal Engine 4 (UE4) User Group</td>\n",
       "    </tr>\n",
       "    <tr>\n",
       "      <th>1025</th>\n",
       "      <td>2</td>\n",
       "      <td>36164349</td>\n",
       "      <td>Сарказм</td>\n",
       "    </tr>\n",
       "    <tr>\n",
       "      <th>1026</th>\n",
       "      <td>2</td>\n",
       "      <td>34491673</td>\n",
       "      <td>Убойные приколы</td>\n",
       "    </tr>\n",
       "    <tr>\n",
       "      <th>1027</th>\n",
       "      <td>2</td>\n",
       "      <td>33159467</td>\n",
       "      <td>Смешно До Боли ツ</td>\n",
       "    </tr>\n",
       "    <tr>\n",
       "      <th>1031</th>\n",
       "      <td>2</td>\n",
       "      <td>25397178</td>\n",
       "      <td>Мужские мысли</td>\n",
       "    </tr>\n",
       "    <tr>\n",
       "      <th>704</th>\n",
       "      <td>2</td>\n",
       "      <td>31547740</td>\n",
       "      <td>Сериалы</td>\n",
       "    </tr>\n",
       "    <tr>\n",
       "      <th>189</th>\n",
       "      <td>2</td>\n",
       "      <td>243849</td>\n",
       "      <td>Модель Для Сборки Online</td>\n",
       "    </tr>\n",
       "    <tr>\n",
       "      <th>1028</th>\n",
       "      <td>2</td>\n",
       "      <td>30022666</td>\n",
       "      <td>Лепра</td>\n",
       "    </tr>\n",
       "    <tr>\n",
       "      <th>172</th>\n",
       "      <td>2</td>\n",
       "      <td>72573739</td>\n",
       "      <td>Academic Sculpture</td>\n",
       "    </tr>\n",
       "    <tr>\n",
       "      <th>252</th>\n",
       "      <td>2</td>\n",
       "      <td>28310939</td>\n",
       "      <td>Высшая школа печати и медиаиндустрии (быв. МГУП)</td>\n",
       "    </tr>\n",
       "    <tr>\n",
       "      <th>1424</th>\n",
       "      <td>2</td>\n",
       "      <td>26419239</td>\n",
       "      <td>Смейся до слёз :D</td>\n",
       "    </tr>\n",
       "    <tr>\n",
       "      <th>163</th>\n",
       "      <td>2</td>\n",
       "      <td>35193970</td>\n",
       "      <td>Perception of music</td>\n",
       "    </tr>\n",
       "    <tr>\n",
       "      <th>1046</th>\n",
       "      <td>2</td>\n",
       "      <td>26515827</td>\n",
       "      <td>Клубная музыка | Новинки Музыки 2017</td>\n",
       "    </tr>\n",
       "    <tr>\n",
       "      <th>660</th>\n",
       "      <td>2</td>\n",
       "      <td>24632746</td>\n",
       "      <td>Два Пальца</td>\n",
       "    </tr>\n",
       "    <tr>\n",
       "      <th>730</th>\n",
       "      <td>2</td>\n",
       "      <td>37119411</td>\n",
       "      <td>KudaGo: Москва</td>\n",
       "    </tr>\n",
       "    <tr>\n",
       "      <th>727</th>\n",
       "      <td>2</td>\n",
       "      <td>35555559</td>\n",
       "      <td>«Займись собой»</td>\n",
       "    </tr>\n",
       "    <tr>\n",
       "      <th>109</th>\n",
       "      <td>2</td>\n",
       "      <td>156922</td>\n",
       "      <td>Relax FM</td>\n",
       "    </tr>\n",
       "  </tbody>\n",
       "</table>\n",
       "<p>100 rows × 3 columns</p>\n",
       "</div>"
      ],
      "text/plain": [
       "      count        id                                              name\n",
       "317      10  24770985                                        ФИТ | РГСУ\n",
       "223       9  39683739                         Официальная страница РГСУ\n",
       "244       7  58593098                                 Подслушано в РГСУ\n",
       "164       6  54530371                           Библиотека программиста\n",
       "133       6  76353235                                          IST-2014\n",
       "148       5  82969684                                     Сессия ФИТиТБ\n",
       "0         5  22798006                                         Киномания\n",
       "90        5  56106344                                         Палата №6\n",
       "582       5  16108331                          Программирование ITmozg:\n",
       "613       4  29559271                                     Science|Наука\n",
       "560       4  31480508                                            Пикабу\n",
       "578       4  20845272                                 Интересная Москва\n",
       "611       4  30602036                                               IGM\n",
       "901       3  76999465                           Волонтёрский центр РГСУ\n",
       "569       3  31038184                                          Wylsacom\n",
       "563       3  31976785                                   Наука и Техника\n",
       "1         3  12382740                                                ЁП\n",
       "579       3  48398185                                          ArcheAge\n",
       "548       3  59562476                                  Признания в РГСУ\n",
       "165       3  72495085                                         /dev/null\n",
       "1315      3  76132198                        Stop Fake! | Полезно знать\n",
       "546       3  28261334                                                TJ\n",
       "742       3  40316705                             Новости RT на русском\n",
       "1273      3  40167434                                   Английский язык\n",
       "138       3  85503405                                              РГСЮ\n",
       "91        3  44759043                                      Just English\n",
       "941       3  44945827                Студенческий сектор профсоюза РГСУ\n",
       "98        3  34215577                                        Подслушано\n",
       "1293      3  32015300                          Без кота и жизнь не та ツ\n",
       "1024      3  40567146                                           Лайфхак\n",
       "...     ...       ...                                               ...\n",
       "656       2  24394525            Студенческий информационный центр РГСУ\n",
       "1311      2  30525261                             Psychology|Психология\n",
       "1310      2  24713873                                    5 умных мыслей\n",
       "584       2  58100272                                       Sideburn004\n",
       "669       2  26750264                                  5 лучших фильмов\n",
       "1009      2  83073167                                  Философский клуб\n",
       "698       2  30666517                              Типичный программист\n",
       "316       2  53996920   Факультет информационных технологий | РГСУ | IT\n",
       "207       2    947906        Blender 3D — Свободный редактор 3D-графики\n",
       "696       2  30598666                       Как это переводится, Чувак?\n",
       "687       2  29302425                                   Шедевры рекламы\n",
       "1475      2  25752703                                  World of History\n",
       "1023      2  27895931                               Новинки Музыки 2017\n",
       "228       2  68573701         Official Unreal Engine 4 (UE4) User Group\n",
       "1025      2  36164349                                           Сарказм\n",
       "1026      2  34491673                                   Убойные приколы\n",
       "1027      2  33159467                                  Смешно До Боли ツ\n",
       "1031      2  25397178                                     Мужские мысли\n",
       "704       2  31547740                                           Сериалы\n",
       "189       2    243849                          Модель Для Сборки Online\n",
       "1028      2  30022666                                             Лепра\n",
       "172       2  72573739                                Academic Sculpture\n",
       "252       2  28310939  Высшая школа печати и медиаиндустрии (быв. МГУП)\n",
       "1424      2  26419239                                 Смейся до слёз :D\n",
       "163       2  35193970                               Perception of music\n",
       "1046      2  26515827              Клубная музыка | Новинки Музыки 2017\n",
       "660       2  24632746                                        Два Пальца\n",
       "730       2  37119411                                    KudaGo: Москва\n",
       "727       2  35555559                                   «Займись собой»\n",
       "109       2    156922                                          Relax FM\n",
       "\n",
       "[100 rows x 3 columns]"
      ]
     },
     "execution_count": 155,
     "metadata": {},
     "output_type": "execute_result"
    }
   ],
   "source": [
    "# Выводим топ 100\n",
    "top_group_selebrity = pp_group_pd.sort_values(by='count', ascending=False).head(100)\n",
    "top_group_selebrity"
   ]
  },
  {
   "cell_type": "code",
   "execution_count": 156,
   "metadata": {
    "collapsed": false
   },
   "outputs": [
    {
     "data": {
      "text/plain": [
       "<matplotlib.axes._subplots.AxesSubplot at 0x2119ea36ac8>"
      ]
     },
     "execution_count": 156,
     "metadata": {},
     "output_type": "execute_result"
    },
    {
     "data": {
      "image/png": "[encoded data removed]",
      "text/plain": [
       "<matplotlib.figure.Figure at 0x2119ebddac8>"
      ]
     },
     "metadata": {},
     "output_type": "display_data"
    }
   ],
   "source": [
    "# выводим топ 10 на графике\n",
    "top_group_selebrity.head(10).plot.bar(y ='count', x = 'name')"
   ]
  },
  {
   "cell_type": "code",
   "execution_count": 157,
   "metadata": {
    "collapsed": false
   },
   "outputs": [],
   "source": [
    "# сохраняем топ 100 в файл в формате json\n",
    "myFile =  # пишем путь для сохранения в формате строки напр. '/Users/Anton/Desktop/python/net/top100.json'\n",
    "with open(myFile, 'w', encoding=\"utf-8\") as f:\n",
    "    n = 0\n",
    "    f.write('[' + '\\n')\n",
    "    for index in top_group_selebrity['id']:\n",
    "        n+=1\n",
    "        next_group = group_friends[index]\n",
    "        if (n < 100):\n",
    "            f.write('{\"id\" : \"' + str(index) +'\", \"title\" : \"' + str(next_group['name']).replace('\"', \"'\") + '\", \"count\": \"' + str(next_group['count']) + '\"},'+ '\\n')\n",
    "        if (n == 100):\n",
    "            f.write('{\"id\" : \"' + str(index) +'\", \"title\" : \"' + str(next_group['name']).replace('\"', \"'\") + '\", \"count\": \"' + str(next_group['count']) + '\"}'+ '\\n')\n",
    "            f.write(']')\n",
    "            break"
   ]
  },
  {
   "cell_type": "code",
   "execution_count": 158,
   "metadata": {
    "collapsed": true
   },
   "outputs": [],
   "source": [
    "# подготавливаем json для вывода статистики по группам\n",
    "def get_info_user(access_token, id_need_percon):\n",
    "    params_for_inf_about_person = {'access_token': access_token,\n",
    "                                   'user_ids' : id_need_percon,\n",
    "                                   'fields' : 'sex, bdate',\n",
    "                                   'v': VERSION}\n",
    "\n",
    "    response_need_person = requests.get('https://api.vk.com/method/users.get', params_for_inf_about_person)\n",
    "    try:\n",
    "        info_need_person = response_need_person.json()['response'][0]\n",
    "    except KeyError:\n",
    "        info_need_person = get_info_user(access_token, id_need_percon)\n",
    "    return info_need_person\n",
    "\n",
    "info_about_person = {}\n",
    "count_group = 0\n",
    "for id_group in top_group_selebrity['id'].head(5):\n",
    "    next_group = group_friends[id_group]\n",
    "    count_group += 1\n",
    "    sex = {}\n",
    "    sexm = 0\n",
    "    sexw = 0\n",
    "    bdate = {}\n",
    "    bdate_10 = 0\n",
    "    bdate_17 = 0\n",
    "    bdate_23 = 0\n",
    "    bdate_35 = 0\n",
    "    bdate_36 = 0\n",
    "    \n",
    "    for id_need_percon in group_friends[id_group]['id_user']:\n",
    "        info_need_person = get_info_user(access_token, id_need_percon)\n",
    "        try:\n",
    "            if(info_need_person['sex'] == 2):\n",
    "                sexm += 1\n",
    "            else:\n",
    "                sexw += 1\n",
    "                \n",
    "            try:\n",
    "                dat_birthday = info_need_person['bdate'].split('.')\n",
    "                delt_time = datetime.datetime.now() - datetime.datetime(int(dat_birthday[2]), int(dat_birthday[1]), int(dat_birthday[0]))                                                                                       \n",
    "                years = math.floor(delt_time.days/365)\n",
    "\n",
    "                if(years <= 10):\n",
    "                    bdate_10 += 1\n",
    "                elif(10 < years < 18):\n",
    "                    bdate_17 += 1\n",
    "                elif(18 <= years < 24):\n",
    "                    bdate_23 += 1\n",
    "                elif(24 <= years <36):\n",
    "                    bdate_35 += 1\n",
    "                elif(36 <= years):\n",
    "                    bdate_36 += 1\n",
    "            except IndexError:\n",
    "                pass\n",
    "            except ValueError:\n",
    "                pass\n",
    "                                                                        \n",
    "        except KeyError:\n",
    "            pass\n",
    "        \n",
    "    sex = {'sexm': sexm, 'sexw': sexw}\n",
    "    bdate = {'0-10': bdate_10, '11-17': bdate_17, '18-23': bdate_23, '24-35': bdate_35, '36-...': bdate_36}\n",
    "    info_about_person[count_group] = {'id' : id_group, 'sex': sex, 'bdate': bdate, 'name' : next_group['name']}"
   ]
  },
  {
   "cell_type": "code",
   "execution_count": 161,
   "metadata": {
    "collapsed": false
   },
   "outputs": [
    {
     "name": "stdout",
     "output_type": "stream",
     "text": [
      "ФИТ | РГСУ\n"
     ]
    },
    {
     "data": {
      "text/plain": [
       "<matplotlib.axes._subplots.AxesSubplot at 0x2119d737e48>"
      ]
     },
     "execution_count": 161,
     "metadata": {},
     "output_type": "execute_result"
    },
    {
     "data": {
      "image/png": "[encoded data removed]",
      "text/plain": [
       "<matplotlib.figure.Figure at 0x2119d4e9fd0>"
      ]
     },
     "metadata": {},
     "output_type": "display_data"
    },
    {
     "data": {
      "image/png": "[encoded data removed]",
      "text/plain": [
       "<matplotlib.figure.Figure at 0x2119d371c18>"
      ]
     },
     "metadata": {},
     "output_type": "display_data"
    }
   ],
   "source": [
    "# выводим статистику по первой группе\n",
    "new_group = info_about_person[1]\n",
    "    \n",
    "print(new_group['name'])\n",
    "sex_group = []\n",
    "sex_group.append({'sex': new_group['sex']['sexm'], 'name' : 'man'})\n",
    "sex_group.append({'sex' : new_group['sex']['sexw'], 'name' : 'woman'})\n",
    "\n",
    "pd.DataFrame(sex_group).plot.bar(x ='name', y = 'sex', )\n",
    "\n",
    "old_group = []\n",
    "for key, old_stat in new_group['bdate'].items():\n",
    "    old_group.append({'old': old_stat, 'name' : key})\n",
    "pd.DataFrame(old_group).plot.bar(x ='name', y = 'old')"
   ]
  },
  {
   "cell_type": "code",
   "execution_count": 162,
   "metadata": {
    "collapsed": false
   },
   "outputs": [
    {
     "name": "stdout",
     "output_type": "stream",
     "text": [
      "Официальная страница РГСУ\n"
     ]
    },
    {
     "data": {
      "text/plain": [
       "<matplotlib.axes._subplots.AxesSubplot at 0x2119ec98ef0>"
      ]
     },
     "execution_count": 162,
     "metadata": {},
     "output_type": "execute_result"
    },
    {
     "data": {
      "image/png": "[encoded data removed]",
      "text/plain": [
       "<matplotlib.figure.Figure at 0x2119e857f60>"
      ]
     },
     "metadata": {},
     "output_type": "display_data"
    },
    {
     "data": {
      "image/png": "[encoded data removed]",
      "text/plain": [
       "<matplotlib.figure.Figure at 0x2119e857668>"
      ]
     },
     "metadata": {},
     "output_type": "display_data"
    }
   ],
   "source": [
    "# выводим статистику по второй группе\n",
    "new_group = info_about_person[2]\n",
    "    \n",
    "print(new_group['name'])\n",
    "sex_group = []\n",
    "sex_group.append({'sex': new_group['sex']['sexm'], 'name' : 'man'})\n",
    "sex_group.append({'sex' : new_group['sex']['sexw'], 'name' : 'woman'})\n",
    "\n",
    "pd.DataFrame(sex_group).plot.bar(x ='name', y = 'sex', )\n",
    "\n",
    "old_group = []\n",
    "for key, old_stat in new_group['bdate'].items():\n",
    "    old_group.append({'old': old_stat, 'name' : key})\n",
    "pd.DataFrame(old_group).plot.bar(x ='name', y = 'old')"
   ]
  },
  {
   "cell_type": "code",
   "execution_count": 163,
   "metadata": {
    "collapsed": false
   },
   "outputs": [
    {
     "name": "stdout",
     "output_type": "stream",
     "text": [
      "Подслушано в РГСУ\n"
     ]
    },
    {
     "data": {
      "text/plain": [
       "<matplotlib.axes._subplots.AxesSubplot at 0x2119eeec828>"
      ]
     },
     "execution_count": 163,
     "metadata": {},
     "output_type": "execute_result"
    },
    {
     "data": {
      "image/png": "[encoded data removed]",
      "text/plain": [
       "<matplotlib.figure.Figure at 0x2119ed83550>"
      ]
     },
     "metadata": {},
     "output_type": "display_data"
    },
    {
     "data": {
      "image/png": "[encoded data removed]",
      "text/plain": [
       "<matplotlib.figure.Figure at 0x2119ef6eba8>"
      ]
     },
     "metadata": {},
     "output_type": "display_data"
    }
   ],
   "source": [
    "# выводим статистику по третьей группе\n",
    "new_group = info_about_person[3]\n",
    "    \n",
    "print(new_group['name'])\n",
    "sex_group = []\n",
    "sex_group.append({'sex': new_group['sex']['sexm'], 'name' : 'man'})\n",
    "sex_group.append({'sex' : new_group['sex']['sexw'], 'name' : 'woman'})\n",
    "\n",
    "pd.DataFrame(sex_group).plot.bar(x ='name', y = 'sex', )\n",
    "\n",
    "old_group = []\n",
    "for key, old_stat in new_group['bdate'].items():\n",
    "    old_group.append({'old': old_stat, 'name' : key})\n",
    "pd.DataFrame(old_group).plot.bar(x ='name', y = 'old')"
   ]
  },
  {
   "cell_type": "code",
   "execution_count": 164,
   "metadata": {
    "collapsed": false
   },
   "outputs": [
    {
     "name": "stdout",
     "output_type": "stream",
     "text": [
      "{'id': 54530371, 'sex': {'sexm': 5, 'sexw': 1}, 'bdate': {'0-10': 0, '11-17': 0, '18-23': 2, '24-35': 0, '36-...': 1}, 'name': 'Библиотека программиста'}\n",
      "Библиотека программиста\n"
     ]
    },
    {
     "data": {
      "text/plain": [
       "<matplotlib.axes._subplots.AxesSubplot at 0x2119f041b38>"
      ]
     },
     "execution_count": 164,
     "metadata": {},
     "output_type": "execute_result"
    },
    {
     "data": {
      "image/png": "[encoded data removed]",
      "text/plain": [
       "<matplotlib.figure.Figure at 0x2119efe83c8>"
      ]
     },
     "metadata": {},
     "output_type": "display_data"
    },
    {
     "data": {
      "image/png": "[encoded data removed]",
      "text/plain": [
       "<matplotlib.figure.Figure at 0x2119efe80f0>"
      ]
     },
     "metadata": {},
     "output_type": "display_data"
    }
   ],
   "source": [
    "# выводим статистику по четвертой группе\n",
    "\n",
    "new_group = info_about_person[4]\n",
    "print(new_group)    \n",
    "print(new_group['name'])\n",
    "sex_group = []\n",
    "sex_group.append({'sex': new_group['sex']['sexm'], 'name' : 'man'})\n",
    "sex_group.append({'sex' : new_group['sex']['sexw'], 'name' : 'woman'})\n",
    "\n",
    "pd.DataFrame(sex_group).plot.bar(x ='name', y = 'sex', )\n",
    "\n",
    "old_group = []\n",
    "for key, old_stat in new_group['bdate'].items():\n",
    "    old_group.append({'old': old_stat, 'name' : key})\n",
    "pd.DataFrame(old_group).plot.bar(x ='name', y = 'old')"
   ]
  },
  {
   "cell_type": "code",
   "execution_count": 165,
   "metadata": {
    "collapsed": false
   },
   "outputs": [
    {
     "name": "stdout",
     "output_type": "stream",
     "text": [
      "IST-2014\n"
     ]
    },
    {
     "data": {
      "text/plain": [
       "<matplotlib.axes._subplots.AxesSubplot at 0x2119f210a90>"
      ]
     },
     "execution_count": 165,
     "metadata": {},
     "output_type": "execute_result"
    },
    {
     "data": {
      "image/png": "[encoded data removed]",
      "text/plain": [
       "<matplotlib.figure.Figure at 0x2119f05aeb8>"
      ]
     },
     "metadata": {},
     "output_type": "display_data"
    },
    {
     "data": {
      "image/png": "[encoded data removed]",
      "text/plain": [
       "<matplotlib.figure.Figure at 0x2119f139208>"
      ]
     },
     "metadata": {},
     "output_type": "display_data"
    }
   ],
   "source": [
    "# выводим статистику по пятой группе\n",
    "new_group = info_about_person[5]\n",
    "    \n",
    "print(new_group['name'])\n",
    "sex_group = []\n",
    "sex_group.append({'sex': new_group['sex']['sexm'], 'name' : 'man'})\n",
    "sex_group.append({'sex' : new_group['sex']['sexw'], 'name' : 'woman'})\n",
    "\n",
    "pd.DataFrame(sex_group).plot.bar(x ='name', y = 'sex', )\n",
    "\n",
    "old_group = []\n",
    "for key, old_stat in new_group['bdate'].items():\n",
    "    old_group.append({'old': old_stat, 'name' : key})\n",
    "pd.DataFrame(old_group).plot.bar(x ='name', y = 'old')"
   ]
  }
 ],
 "metadata": {
  "kernelspec": {
   "display_name": "Python 3",
   "language": "python",
   "name": "python3"
  },
  "language_info": {
   "codemirror_mode": {
    "name": "ipython",
    "version": 3
   },
   "file_extension": ".py",
   "mimetype": "text/x-python",
   "name": "python",
   "nbconvert_exporter": "python",
   "pygments_lexer": "ipython3",
   "version": "3.6.0"
  }
 },
 "nbformat": 4,
 "nbformat_minor": 2
}
