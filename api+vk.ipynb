{
 "cells": [
  {
   "cell_type": "code",
   "execution_count": 62,
   "metadata": {
    "collapsed": false
   },
   "outputs": [],
   "source": [
    "from urllib.parse import urlencode, urlparse\n",
    "import requests\n",
    "import math\n",
    "import pandas as pd\n",
    "import matplotlib.pyplot as plt\n",
    "import datetime\n",
    "\n",
    "%matplotlib inline"
   ]
  },
  {
   "cell_type": "code",
   "execution_count": 63,
   "metadata": {
    "collapsed": false
   },
   "outputs": [
    {
     "name": "stdout",
     "output_type": "stream",
     "text": [
      "https://oauth.vk.com/authorize?client_id=5854786&display=mobile&response_type=token&scope=friends%2C+groups&v=5.63\n"
     ]
    }
   ],
   "source": [
    "#получаем ссылку для получения токена\n",
    "AUTHORIZE_URL = 'https://oauth.vk.com/authorize'\n",
    "VERSION = '5.63'\n",
    "APP_ID = 5854786\n",
    "\n",
    "auth_data = {\n",
    "    'client_id': APP_ID,\n",
    "    'display': 'mobile',\n",
    "    'response_type': 'token',\n",
    "    'scope': 'friends, groups',\n",
    "    'v': VERSION,\n",
    "}\n",
    "\n",
    "print('?'.join((AUTHORIZE_URL, urlencode(auth_data))))"
   ]
  },
  {
   "cell_type": "code",
   "execution_count": 118,
   "metadata": {
    "collapsed": false
   },
   "outputs": [],
   "source": [
    "# Переходим по полученной ссылке и копируем ее в строку \"token_url\"\n",
    "token_url = #в даннуя сроку \n",
    "# вводим id пользователя, по которому будем искать информацию\n",
    "need_id = # id пищем сюда\n",
    "\n",
    "o = urlparse(token_url)\n",
    "fragments = dict((i.split('=') for i in o.fragment.split('&')))\n",
    "access_token = fragments['access_token']\n",
    "\n",
    "\n",
    "params = {'access_token': access_token,\n",
    "          'user_id' : need_id,\n",
    "          'v': VERSION}\n",
    "\n",
    "\n",
    "response = requests.get('https://api.vk.com/method/friends.get', params)"
   ]
  },
  {
   "cell_type": "code",
   "execution_count": 85,
   "metadata": {
    "collapsed": false
   },
   "outputs": [],
   "source": [
    "# получаем друзей пользователя\n",
    "friends = response.json()['response']['items']"
   ]
  },
  {
   "cell_type": "code",
   "execution_count": 86,
   "metadata": {
    "collapsed": false
   },
   "outputs": [],
   "source": [
    "params_for_follovers = {'access_token': access_token,\n",
    "          'user_id' : need_id,\n",
    "          'count' : 1000,              \n",
    "          'v': VERSION}\n",
    "\n",
    "\n",
    "response_follover = requests.get('https://api.vk.com/method/users.getFollowers', params_for_follovers)"
   ]
  },
  {
   "cell_type": "code",
   "execution_count": 87,
   "metadata": {
    "collapsed": false
   },
   "outputs": [],
   "source": [
    "# получаем всех подписчиков пользователя\n",
    "follovers = response_follover.json()['response']['items']\n",
    "response_count_follover = response_follover.json()['response']['count']\n",
    "count_step = math.ceil(response_count_follover/1000)"
   ]
  },
  {
   "cell_type": "code",
   "execution_count": 88,
   "metadata": {
    "collapsed": false
   },
   "outputs": [],
   "source": [
    "offset = 0\n",
    "if(count_step>1):\n",
    "    while(count_step>1):\n",
    "        count_step = count_step - 1\n",
    "        offset += 1000\n",
    "        params_for_follovers = {'access_token': access_token,\n",
    "          'user_id' : need_id,\n",
    "          'count' : 1000,\n",
    "          'offset' : offset,\n",
    "          'v': VERSION}\n",
    "\n",
    "        response_follover = requests.get('https://api.vk.com/method/users.getFollowers', params_for_follovers)\n",
    "        follovers += response_follover.json()['response']['items']"
   ]
  },
  {
   "cell_type": "code",
   "execution_count": 89,
   "metadata": {
    "collapsed": false
   },
   "outputs": [],
   "source": [
    "# получаем всех искомых пользователей\n",
    "ol_follov_and_friend = follovers + friends"
   ]
  },
  {
   "cell_type": "code",
   "execution_count": 90,
   "metadata": {
    "collapsed": false
   },
   "outputs": [
    {
     "name": "stdout",
     "output_type": "stream",
     "text": [
      "Получение групп началось. Это займет продолжительное время.\n",
      "готово!\n"
     ]
    }
   ],
   "source": [
    "# Получаем все группы пользователей\n",
    "group_friends = {}\n",
    "sum_friend_and_follov = len(ol_follov_and_friend)\n",
    "namber_iteration = 0\n",
    "print('Получение групп началось. Это займет продолжительное время.')\n",
    "for id in ol_follov_and_friend:\n",
    "    namber_iteration += 1\n",
    "    if(namber_iteration%250 == 0):\n",
    "        print('осталось: '+ str(sum_friend_and_follov-namber_iteration))\n",
    "    \n",
    "    params_for_groups_friends = {'access_token': access_token,\n",
    "          'user_id' : id,\n",
    "          'extended' : 1,\n",
    "          #'count' : 7,\n",
    "          'v': VERSION}\n",
    "    response_groups_friends = requests.get('https://api.vk.com/method/groups.get', params_for_groups_friends)\n",
    "    #print(response_groups_friends.json(), id)\n",
    "    try:\n",
    "        groups_info = response_groups_friends.json()['response']['items']\n",
    "        #print(response_groups_friends.json(), id)\n",
    "        for group_inf_pers in groups_info:\n",
    "            id_clab = group_inf_pers['id']\n",
    "            try:\n",
    "                group_friends[id_clab]['count'] += 1\n",
    "                #print(group_friends[id_clab]['count'], group_friends[id_clab]['name'])\n",
    "                group_friends[id_clab]['id_user'].append(id)\n",
    "            except KeyError:\n",
    "                group_friends[id_clab] = {'name': group_inf_pers['name'], 'count': 1, 'id_user' : [id]}\n",
    "                #print({'id': group_inf_pers['id'], 'name': group_inf_pers['name']}, id)\n",
    "    except KeyError:\n",
    "        continue   \n",
    "print('готово!')"
   ]
  },
  {
   "cell_type": "code",
   "execution_count": 91,
   "metadata": {
    "collapsed": false
   },
   "outputs": [],
   "source": [
    "# подготавливаем записи для работы с pandas\n",
    "pp_group = []\n",
    "for key, id_gr in group_friends.items():\n",
    "    pp_group.append({'id': key, 'name' : id_gr['name'], 'count': id_gr['count']})"
   ]
  },
  {
   "cell_type": "code",
   "execution_count": 92,
   "metadata": {
    "collapsed": false
   },
   "outputs": [],
   "source": [
    "pp_group_pd = pd.DataFrame(pp_group)"
   ]
  },
  {
   "cell_type": "code",
   "execution_count": 93,
   "metadata": {
    "collapsed": false
   },
   "outputs": [
    {
     "data": {
      "text/html": [
       "<div>\n",
       "<table border=\"1\" class=\"dataframe\">\n",
       "  <thead>\n",
       "    <tr style=\"text-align: right;\">\n",
       "      <th></th>\n",
       "      <th>count</th>\n",
       "      <th>id</th>\n",
       "      <th>name</th>\n",
       "    </tr>\n",
       "  </thead>\n",
       "  <tbody>\n",
       "    <tr>\n",
       "      <th>222</th>\n",
       "      <td>9</td>\n",
       "      <td>39683739</td>\n",
       "      <td>Официальная страница РГСУ</td>\n",
       "    </tr>\n",
       "    <tr>\n",
       "      <th>316</th>\n",
       "      <td>9</td>\n",
       "      <td>24770985</td>\n",
       "      <td>ФИТ | РГСУ</td>\n",
       "    </tr>\n",
       "    <tr>\n",
       "      <th>243</th>\n",
       "      <td>7</td>\n",
       "      <td>58593098</td>\n",
       "      <td>Подслушано в РГСУ</td>\n",
       "    </tr>\n",
       "    <tr>\n",
       "      <th>163</th>\n",
       "      <td>6</td>\n",
       "      <td>54530371</td>\n",
       "      <td>Библиотека программиста</td>\n",
       "    </tr>\n",
       "    <tr>\n",
       "      <th>0</th>\n",
       "      <td>5</td>\n",
       "      <td>22798006</td>\n",
       "      <td>Киномания</td>\n",
       "    </tr>\n",
       "    <tr>\n",
       "      <th>132</th>\n",
       "      <td>5</td>\n",
       "      <td>76353235</td>\n",
       "      <td>IST-2014</td>\n",
       "    </tr>\n",
       "    <tr>\n",
       "      <th>553</th>\n",
       "      <td>5</td>\n",
       "      <td>16108331</td>\n",
       "      <td>Программирование ITmozg:</td>\n",
       "    </tr>\n",
       "    <tr>\n",
       "      <th>598</th>\n",
       "      <td>4</td>\n",
       "      <td>29559271</td>\n",
       "      <td>Science|Наука</td>\n",
       "    </tr>\n",
       "    <tr>\n",
       "      <th>147</th>\n",
       "      <td>4</td>\n",
       "      <td>82969684</td>\n",
       "      <td>Сессия ФИТиТБ</td>\n",
       "    </tr>\n",
       "    <tr>\n",
       "      <th>89</th>\n",
       "      <td>4</td>\n",
       "      <td>56106344</td>\n",
       "      <td>Палата №6</td>\n",
       "    </tr>\n",
       "    <tr>\n",
       "      <th>596</th>\n",
       "      <td>4</td>\n",
       "      <td>30602036</td>\n",
       "      <td>IGM</td>\n",
       "    </tr>\n",
       "    <tr>\n",
       "      <th>549</th>\n",
       "      <td>4</td>\n",
       "      <td>20845272</td>\n",
       "      <td>Интересная Москва</td>\n",
       "    </tr>\n",
       "    <tr>\n",
       "      <th>1</th>\n",
       "      <td>3</td>\n",
       "      <td>12382740</td>\n",
       "      <td>ЁП</td>\n",
       "    </tr>\n",
       "    <tr>\n",
       "      <th>647</th>\n",
       "      <td>3</td>\n",
       "      <td>25346844</td>\n",
       "      <td>5 интересных фактов</td>\n",
       "    </tr>\n",
       "    <tr>\n",
       "      <th>578</th>\n",
       "      <td>3</td>\n",
       "      <td>460389</td>\n",
       "      <td>БОРЩ</td>\n",
       "    </tr>\n",
       "    <tr>\n",
       "      <th>550</th>\n",
       "      <td>3</td>\n",
       "      <td>48398185</td>\n",
       "      <td>ArcheAge</td>\n",
       "    </tr>\n",
       "    <tr>\n",
       "      <th>788</th>\n",
       "      <td>3</td>\n",
       "      <td>57876954</td>\n",
       "      <td>Vine Video</td>\n",
       "    </tr>\n",
       "    <tr>\n",
       "      <th>540</th>\n",
       "      <td>3</td>\n",
       "      <td>31038184</td>\n",
       "      <td>Wylsacom</td>\n",
       "    </tr>\n",
       "    <tr>\n",
       "      <th>534</th>\n",
       "      <td>3</td>\n",
       "      <td>31976785</td>\n",
       "      <td>Наука и Техника</td>\n",
       "    </tr>\n",
       "    <tr>\n",
       "      <th>531</th>\n",
       "      <td>3</td>\n",
       "      <td>31480508</td>\n",
       "      <td>Пикабу</td>\n",
       "    </tr>\n",
       "    <tr>\n",
       "      <th>519</th>\n",
       "      <td>3</td>\n",
       "      <td>59562476</td>\n",
       "      <td>Признания в РГСУ</td>\n",
       "    </tr>\n",
       "    <tr>\n",
       "      <th>13</th>\n",
       "      <td>3</td>\n",
       "      <td>23098699</td>\n",
       "      <td>Стоп-кадр</td>\n",
       "    </tr>\n",
       "    <tr>\n",
       "      <th>1191</th>\n",
       "      <td>3</td>\n",
       "      <td>40167434</td>\n",
       "      <td>Английский язык</td>\n",
       "    </tr>\n",
       "    <tr>\n",
       "      <th>1211</th>\n",
       "      <td>3</td>\n",
       "      <td>32015300</td>\n",
       "      <td>Без кота и жизнь не та ツ</td>\n",
       "    </tr>\n",
       "    <tr>\n",
       "      <th>90</th>\n",
       "      <td>3</td>\n",
       "      <td>44759043</td>\n",
       "      <td>Just English</td>\n",
       "    </tr>\n",
       "    <tr>\n",
       "      <th>1234</th>\n",
       "      <td>3</td>\n",
       "      <td>76132198</td>\n",
       "      <td>Stop Fake! | Полезно знать</td>\n",
       "    </tr>\n",
       "    <tr>\n",
       "      <th>6</th>\n",
       "      <td>3</td>\n",
       "      <td>30179569</td>\n",
       "      <td>Убойный юмор</td>\n",
       "    </tr>\n",
       "    <tr>\n",
       "      <th>97</th>\n",
       "      <td>3</td>\n",
       "      <td>34215577</td>\n",
       "      <td>Подслушано</td>\n",
       "    </tr>\n",
       "    <tr>\n",
       "      <th>4</th>\n",
       "      <td>3</td>\n",
       "      <td>29246653</td>\n",
       "      <td>Корпорация Зла</td>\n",
       "    </tr>\n",
       "    <tr>\n",
       "      <th>104</th>\n",
       "      <td>3</td>\n",
       "      <td>51313495</td>\n",
       "      <td>uWebDesign (wordpress, svg, sass, javascript)</td>\n",
       "    </tr>\n",
       "    <tr>\n",
       "      <th>...</th>\n",
       "      <td>...</td>\n",
       "      <td>...</td>\n",
       "      <td>...</td>\n",
       "    </tr>\n",
       "    <tr>\n",
       "      <th>876</th>\n",
       "      <td>2</td>\n",
       "      <td>24299135</td>\n",
       "      <td>Убейся Позитивом 😂</td>\n",
       "    </tr>\n",
       "    <tr>\n",
       "      <th>171</th>\n",
       "      <td>2</td>\n",
       "      <td>72573739</td>\n",
       "      <td>Academic Sculpture</td>\n",
       "    </tr>\n",
       "    <tr>\n",
       "      <th>173</th>\n",
       "      <td>2</td>\n",
       "      <td>91933860</td>\n",
       "      <td>N + 1</td>\n",
       "    </tr>\n",
       "    <tr>\n",
       "      <th>188</th>\n",
       "      <td>2</td>\n",
       "      <td>243849</td>\n",
       "      <td>Модель Для Сборки Online</td>\n",
       "    </tr>\n",
       "    <tr>\n",
       "      <th>879</th>\n",
       "      <td>2</td>\n",
       "      <td>75767882</td>\n",
       "      <td>1 курс РГСУ (2014)</td>\n",
       "    </tr>\n",
       "    <tr>\n",
       "      <th>1395</th>\n",
       "      <td>2</td>\n",
       "      <td>25752703</td>\n",
       "      <td>World of History</td>\n",
       "    </tr>\n",
       "    <tr>\n",
       "      <th>206</th>\n",
       "      <td>2</td>\n",
       "      <td>947906</td>\n",
       "      <td>Blender 3D — Свободный редактор 3D-графики</td>\n",
       "    </tr>\n",
       "    <tr>\n",
       "      <th>397</th>\n",
       "      <td>2</td>\n",
       "      <td>34137285</td>\n",
       "      <td>О чем говорят мужчины</td>\n",
       "    </tr>\n",
       "    <tr>\n",
       "      <th>947</th>\n",
       "      <td>2</td>\n",
       "      <td>76314525</td>\n",
       "      <td>Хитрости жизни</td>\n",
       "    </tr>\n",
       "    <tr>\n",
       "      <th>949</th>\n",
       "      <td>2</td>\n",
       "      <td>25397178</td>\n",
       "      <td>Мужские мысли</td>\n",
       "    </tr>\n",
       "    <tr>\n",
       "      <th>645</th>\n",
       "      <td>2</td>\n",
       "      <td>24632746</td>\n",
       "      <td>Два Пальца</td>\n",
       "    </tr>\n",
       "    <tr>\n",
       "      <th>867</th>\n",
       "      <td>2</td>\n",
       "      <td>26307864</td>\n",
       "      <td>Искусство реальности</td>\n",
       "    </tr>\n",
       "    <tr>\n",
       "      <th>868</th>\n",
       "      <td>2</td>\n",
       "      <td>32194285</td>\n",
       "      <td>Bon Appétit | Лучшие рецепты</td>\n",
       "    </tr>\n",
       "    <tr>\n",
       "      <th>603</th>\n",
       "      <td>2</td>\n",
       "      <td>133339</td>\n",
       "      <td>Cisco</td>\n",
       "    </tr>\n",
       "    <tr>\n",
       "      <th>945</th>\n",
       "      <td>2</td>\n",
       "      <td>33159467</td>\n",
       "      <td>Смешно До Боли ツ</td>\n",
       "    </tr>\n",
       "    <tr>\n",
       "      <th>997</th>\n",
       "      <td>2</td>\n",
       "      <td>135226622</td>\n",
       "      <td>Гвоздь</td>\n",
       "    </tr>\n",
       "    <tr>\n",
       "      <th>633</th>\n",
       "      <td>2</td>\n",
       "      <td>23345598</td>\n",
       "      <td>Leo Messi | Лео Месси</td>\n",
       "    </tr>\n",
       "    <tr>\n",
       "      <th>641</th>\n",
       "      <td>2</td>\n",
       "      <td>24394525</td>\n",
       "      <td>Студенческий информационный центр РГСУ</td>\n",
       "    </tr>\n",
       "    <tr>\n",
       "      <th>989</th>\n",
       "      <td>2</td>\n",
       "      <td>34529402</td>\n",
       "      <td>Men's life</td>\n",
       "    </tr>\n",
       "    <tr>\n",
       "      <th>946</th>\n",
       "      <td>2</td>\n",
       "      <td>30022666</td>\n",
       "      <td>Лепра</td>\n",
       "    </tr>\n",
       "    <tr>\n",
       "      <th>406</th>\n",
       "      <td>2</td>\n",
       "      <td>43256857</td>\n",
       "      <td>Настоящие©</td>\n",
       "    </tr>\n",
       "    <tr>\n",
       "      <th>648</th>\n",
       "      <td>2</td>\n",
       "      <td>25380626</td>\n",
       "      <td>Первый канал</td>\n",
       "    </tr>\n",
       "    <tr>\n",
       "      <th>654</th>\n",
       "      <td>2</td>\n",
       "      <td>26750264</td>\n",
       "      <td>5 лучших фильмов</td>\n",
       "    </tr>\n",
       "    <tr>\n",
       "      <th>972</th>\n",
       "      <td>2</td>\n",
       "      <td>36859750</td>\n",
       "      <td>Men's Classical</td>\n",
       "    </tr>\n",
       "    <tr>\n",
       "      <th>964</th>\n",
       "      <td>2</td>\n",
       "      <td>26515827</td>\n",
       "      <td>Клубная музыка | Новинки Музыки 2017</td>\n",
       "    </tr>\n",
       "    <tr>\n",
       "      <th>672</th>\n",
       "      <td>2</td>\n",
       "      <td>29302425</td>\n",
       "      <td>Шедевры рекламы</td>\n",
       "    </tr>\n",
       "    <tr>\n",
       "      <th>681</th>\n",
       "      <td>2</td>\n",
       "      <td>30598666</td>\n",
       "      <td>Как это переводится, Чувак?</td>\n",
       "    </tr>\n",
       "    <tr>\n",
       "      <th>683</th>\n",
       "      <td>2</td>\n",
       "      <td>30666517</td>\n",
       "      <td>Типичный программист</td>\n",
       "    </tr>\n",
       "    <tr>\n",
       "      <th>689</th>\n",
       "      <td>2</td>\n",
       "      <td>31547740</td>\n",
       "      <td>Сериалы</td>\n",
       "    </tr>\n",
       "    <tr>\n",
       "      <th>580</th>\n",
       "      <td>2</td>\n",
       "      <td>67580761</td>\n",
       "      <td>КБ</td>\n",
       "    </tr>\n",
       "  </tbody>\n",
       "</table>\n",
       "<p>100 rows × 3 columns</p>\n",
       "</div>"
      ],
      "text/plain": [
       "      count         id                                           name\n",
       "222       9   39683739                      Официальная страница РГСУ\n",
       "316       9   24770985                                     ФИТ | РГСУ\n",
       "243       7   58593098                              Подслушано в РГСУ\n",
       "163       6   54530371                        Библиотека программиста\n",
       "0         5   22798006                                      Киномания\n",
       "132       5   76353235                                       IST-2014\n",
       "553       5   16108331                       Программирование ITmozg:\n",
       "598       4   29559271                                  Science|Наука\n",
       "147       4   82969684                                  Сессия ФИТиТБ\n",
       "89        4   56106344                                      Палата №6\n",
       "596       4   30602036                                            IGM\n",
       "549       4   20845272                              Интересная Москва\n",
       "1         3   12382740                                             ЁП\n",
       "647       3   25346844                            5 интересных фактов\n",
       "578       3     460389                                           БОРЩ\n",
       "550       3   48398185                                       ArcheAge\n",
       "788       3   57876954                                     Vine Video\n",
       "540       3   31038184                                       Wylsacom\n",
       "534       3   31976785                                Наука и Техника\n",
       "531       3   31480508                                         Пикабу\n",
       "519       3   59562476                               Признания в РГСУ\n",
       "13        3   23098699                                      Стоп-кадр\n",
       "1191      3   40167434                                Английский язык\n",
       "1211      3   32015300                       Без кота и жизнь не та ツ\n",
       "90        3   44759043                                   Just English\n",
       "1234      3   76132198                     Stop Fake! | Полезно знать\n",
       "6         3   30179569                                   Убойный юмор\n",
       "97        3   34215577                                     Подслушано\n",
       "4         3   29246653                                 Корпорация Зла\n",
       "104       3   51313495  uWebDesign (wordpress, svg, sass, javascript)\n",
       "...     ...        ...                                            ...\n",
       "876       2   24299135                             Убейся Позитивом 😂\n",
       "171       2   72573739                             Academic Sculpture\n",
       "173       2   91933860                                          N + 1\n",
       "188       2     243849                       Модель Для Сборки Online\n",
       "879       2   75767882                             1 курс РГСУ (2014)\n",
       "1395      2   25752703                               World of History\n",
       "206       2     947906     Blender 3D — Свободный редактор 3D-графики\n",
       "397       2   34137285                          О чем говорят мужчины\n",
       "947       2   76314525                                 Хитрости жизни\n",
       "949       2   25397178                                  Мужские мысли\n",
       "645       2   24632746                                     Два Пальца\n",
       "867       2   26307864                           Искусство реальности\n",
       "868       2   32194285                   Bon Appétit | Лучшие рецепты\n",
       "603       2     133339                                          Cisco\n",
       "945       2   33159467                               Смешно До Боли ツ\n",
       "997       2  135226622                                         Гвоздь\n",
       "633       2   23345598                          Leo Messi | Лео Месси\n",
       "641       2   24394525         Студенческий информационный центр РГСУ\n",
       "989       2   34529402                                     Men's life\n",
       "946       2   30022666                                          Лепра\n",
       "406       2   43256857                                     Настоящие©\n",
       "648       2   25380626                                   Первый канал\n",
       "654       2   26750264                               5 лучших фильмов\n",
       "972       2   36859750                                Men's Classical\n",
       "964       2   26515827           Клубная музыка | Новинки Музыки 2017\n",
       "672       2   29302425                                Шедевры рекламы\n",
       "681       2   30598666                    Как это переводится, Чувак?\n",
       "683       2   30666517                           Типичный программист\n",
       "689       2   31547740                                        Сериалы\n",
       "580       2   67580761                                             КБ\n",
       "\n",
       "[100 rows x 3 columns]"
      ]
     },
     "execution_count": 93,
     "metadata": {},
     "output_type": "execute_result"
    }
   ],
   "source": [
    "# Выводим топ 100\n",
    "top_group_selebrity = pp_group_pd.sort_values(by='count', ascending=False).head(100)\n",
    "top_group_selebrity"
   ]
  },
  {
   "cell_type": "code",
   "execution_count": 94,
   "metadata": {
    "collapsed": false
   },
   "outputs": [
    {
     "data": {
      "text/plain": [
       "<matplotlib.axes._subplots.AxesSubplot at 0x2119adbce80>"
      ]
     },
     "execution_count": 94,
     "metadata": {},
     "output_type": "execute_result"
    },
    {
     "data": {
      "image/png": "[encoded data removed]",
      "text/plain": [
       "<matplotlib.figure.Figure at 0x2119cc3f1d0>"
      ]
     },
     "metadata": {},
     "output_type": "display_data"
    }
   ],
   "source": [
    "# выводим топ 10 на графике\n",
    "top_group_selebrity.head(10).plot.bar(y ='count', x = 'name')"
   ]
  },
  {
   "cell_type": "code",
   "execution_count": 95,
   "metadata": {
    "collapsed": false
   },
   "outputs": [],
   "source": [
    "# сохраняем топ 100 в файл в формате json\n",
    "myFile = '/Users/Anton/Desktop/python/net/top100.json' # пишем путь для сохранения в формате строки напр. '/Users/Anton/Desktop/python/net/top100.json'\n",
    "with open(myFile, 'w', encoding=\"utf-8\") as f:\n",
    "    n = 0\n",
    "    f.write('[' + '\\n')\n",
    "    for index in top_group_selebrity['id']:\n",
    "        n+=1\n",
    "        next_group = group_friends[index]\n",
    "        if (n < 100):\n",
    "            f.write('{\"title\" : \"' + str(next_group['name']).replace('\"', \"'\") + '\", \"count\": \"' + str(next_group['count']) + '\"},'+ '\\n')\n",
    "        if (n == 100):\n",
    "            f.write('{\"title\" : \"' + str(next_group['name']).replace('\"', \"'\") + '\", \"count\": \"' + str(next_group['count']) + '\"}'+ '\\n')\n",
    "            f.write(']')\n",
    "            break"
   ]
  },
  {
   "cell_type": "code",
   "execution_count": 110,
   "metadata": {
    "collapsed": false
   },
   "outputs": [],
   "source": [
    "# подготавливаем json для вывода статистики по группам\n",
    "info_about_person = {}\n",
    "count_group = 0\n",
    "for id_group in top_group_selebrity['id'].head(5):\n",
    "    next_group = group_friends[id_group]\n",
    "    count_group += 1\n",
    "    sex = {}\n",
    "    sexm = 0\n",
    "    sexw = 0\n",
    "    bdate = {}\n",
    "    bdate_10 = 0\n",
    "    bdate_17 = 0\n",
    "    bdate_23 = 0\n",
    "    bdate_35 = 0\n",
    "    bdate_36 = 0\n",
    "    \n",
    "    for id_need_percon in group_friends[id_group]['id_user']:\n",
    "        params_for_inf_about_person = {'access_token': access_token,\n",
    "          'user_ids' : id_need_percon,\n",
    "          'fields' : 'sex, bdate',\n",
    "          'v': VERSION}\n",
    "\n",
    "        response_need_person = requests.get('https://api.vk.com/method/users.get', params_for_inf_about_person)\n",
    "        try:\n",
    "            if(response_need_person.json()['response'][0]['sex'] == 2):\n",
    "                sexm += 1\n",
    "            else:\n",
    "                sexw += 1\n",
    "                \n",
    "            try:\n",
    "                dat_birthday = response_need_person.json()['response'][0]['bdate'].split('.')\n",
    "                delt_time = datetime.datetime.now() - datetime.datetime(int(dat_birthday[2]), int(dat_birthday[1]), int(dat_birthday[0]))                                                                                       \n",
    "                years = math.floor(delt_time.days/365)\n",
    "\n",
    "                if(years <= 10):\n",
    "                    bdate_10 += 1\n",
    "                elif(10 < years < 18):\n",
    "                    bdate_17 += 1\n",
    "                elif(18 <= years < 24):\n",
    "                    bdate_23 += 1\n",
    "                elif(24 <= years <36):\n",
    "                    bdate_35 += 1\n",
    "                elif(36 <= years):\n",
    "                    bdate_36 += 1\n",
    "            except IndexError:\n",
    "                pass\n",
    "                                                                        \n",
    "        except KeyError:\n",
    "            pass\n",
    "        \n",
    "    sex = {'sexm': sexm, 'sexw': sexw}\n",
    "    bdate = {'0-10': bdate_10, '11-17': bdate_17, '18-23': bdate_23, '24-35': bdate_35, '36-...': bdate_36}\n",
    "    info_about_person[count_group] = {'id' : id_group, 'sex': sex, 'bdate': bdate, 'name' : next_group['name']}"
   ]
  },
  {
   "cell_type": "code",
   "execution_count": 112,
   "metadata": {
    "collapsed": false
   },
   "outputs": [
    {
     "name": "stdout",
     "output_type": "stream",
     "text": [
      "Официальная страница РГСУ\n"
     ]
    },
    {
     "data": {
      "text/plain": [
       "<matplotlib.axes._subplots.AxesSubplot at 0x2119d1a6198>"
      ]
     },
     "execution_count": 112,
     "metadata": {},
     "output_type": "execute_result"
    },
    {
     "data": {
      "image/png": "[encoded data removed]",
      "text/plain": [
       "<matplotlib.figure.Figure at 0x2119cf28978>"
      ]
     },
     "metadata": {},
     "output_type": "display_data"
    },
    {
     "data": {
      "image/png": "[encoded data removed]",
      "text/plain": [
       "<matplotlib.figure.Figure at 0x2119d732908>"
      ]
     },
     "metadata": {},
     "output_type": "display_data"
    }
   ],
   "source": [
    "# выводим статистику по первой группе\n",
    "new_group = info_about_person[1]\n",
    "    \n",
    "print(new_group['name'])\n",
    "sex_group = []\n",
    "sex_group.append({'sex': new_group['sex']['sexm'], 'name' : 'man'})\n",
    "sex_group.append({'sex' : new_group['sex']['sexw'], 'name' : 'woman'})\n",
    "\n",
    "pd.DataFrame(sex_group).plot.bar(x ='name', y = 'sex', )\n",
    "\n",
    "old_group = []\n",
    "for key, old_stat in new_group['bdate'].items():\n",
    "    old_group.append({'old': old_stat, 'name' : key})\n",
    "pd.DataFrame(old_group).plot.bar(x ='name', y = 'old')"
   ]
  },
  {
   "cell_type": "code",
   "execution_count": 113,
   "metadata": {
    "collapsed": false
   },
   "outputs": [
    {
     "name": "stdout",
     "output_type": "stream",
     "text": [
      "ФИТ | РГСУ\n"
     ]
    },
    {
     "data": {
      "text/plain": [
       "<matplotlib.axes._subplots.AxesSubplot at 0x2119e8dd710>"
      ]
     },
     "execution_count": 113,
     "metadata": {},
     "output_type": "execute_result"
    },
    {
     "data": {
      "image/png": "[encoded data removed]",
      "text/plain": [
       "<matplotlib.figure.Figure at 0x2119d1b8ef0>"
      ]
     },
     "metadata": {},
     "output_type": "display_data"
    },
    {
     "data": {
      "image/png": "[encoded data removed]",
      "text/plain": [
       "<matplotlib.figure.Figure at 0x2119e81c0f0>"
      ]
     },
     "metadata": {},
     "output_type": "display_data"
    }
   ],
   "source": [
    "# выводим статистику по второй группе\n",
    "new_group = info_about_person[2]\n",
    "    \n",
    "print(new_group['name'])\n",
    "sex_group = []\n",
    "sex_group.append({'sex': new_group['sex']['sexm'], 'name' : 'man'})\n",
    "sex_group.append({'sex' : new_group['sex']['sexw'], 'name' : 'woman'})\n",
    "\n",
    "pd.DataFrame(sex_group).plot.bar(x ='name', y = 'sex', )\n",
    "\n",
    "old_group = []\n",
    "for key, old_stat in new_group['bdate'].items():\n",
    "    old_group.append({'old': old_stat, 'name' : key})\n",
    "pd.DataFrame(old_group).plot.bar(x ='name', y = 'old')"
   ]
  },
  {
   "cell_type": "code",
   "execution_count": 114,
   "metadata": {
    "collapsed": false
   },
   "outputs": [
    {
     "name": "stdout",
     "output_type": "stream",
     "text": [
      "Подслушано в РГСУ\n"
     ]
    },
    {
     "data": {
      "text/plain": [
       "<matplotlib.axes._subplots.AxesSubplot at 0x2119ea067b8>"
      ]
     },
     "execution_count": 114,
     "metadata": {},
     "output_type": "execute_result"
    },
    {
     "data": {
      "image/png": "[encoded data removed]",
      "text/plain": [
       "<matplotlib.figure.Figure at 0x2119e9546a0>"
      ]
     },
     "metadata": {},
     "output_type": "display_data"
    },
    {
     "data": {
      "image/png": "[encoded data removed]",
      "text/plain": [
       "<matplotlib.figure.Figure at 0x2119e9c46d8>"
      ]
     },
     "metadata": {},
     "output_type": "display_data"
    }
   ],
   "source": [
    "# выводим статистику по третьей группе\n",
    "new_group = info_about_person[3]\n",
    "    \n",
    "print(new_group['name'])\n",
    "sex_group = []\n",
    "sex_group.append({'sex': new_group['sex']['sexm'], 'name' : 'man'})\n",
    "sex_group.append({'sex' : new_group['sex']['sexw'], 'name' : 'woman'})\n",
    "\n",
    "pd.DataFrame(sex_group).plot.bar(x ='name', y = 'sex', )\n",
    "\n",
    "old_group = []\n",
    "for key, old_stat in new_group['bdate'].items():\n",
    "    old_group.append({'old': old_stat, 'name' : key})\n",
    "pd.DataFrame(old_group).plot.bar(x ='name', y = 'old')"
   ]
  },
  {
   "cell_type": "code",
   "execution_count": 115,
   "metadata": {
    "collapsed": false
   },
   "outputs": [
    {
     "name": "stdout",
     "output_type": "stream",
     "text": [
      "{'id': 54530371, 'sex': {'sexm': 2, 'sexw': 0}, 'bdate': {'0-10': 0, '11-17': 0, '18-23': 0, '24-35': 0, '36-...': 1}, 'name': 'Библиотека программиста'}\n",
      "Библиотека программиста\n"
     ]
    },
    {
     "data": {
      "text/plain": [
       "<matplotlib.axes._subplots.AxesSubplot at 0x2119eb58a58>"
      ]
     },
     "execution_count": 115,
     "metadata": {},
     "output_type": "execute_result"
    },
    {
     "data": {
      "image/png": "[encoded data removed]",
      "text/plain": [
       "<matplotlib.figure.Figure at 0x2119ea0cc88>"
      ]
     },
     "metadata": {},
     "output_type": "display_data"
    },
    {
     "data": {
      "image/png": "[encoded data removed]",
      "text/plain": [
       "<matplotlib.figure.Figure at 0x2119eb8a898>"
      ]
     },
     "metadata": {},
     "output_type": "display_data"
    }
   ],
   "source": [
    "# выводим статистику по четвертой группе\n",
    "\n",
    "new_group = info_about_person[4]\n",
    "print(new_group)    \n",
    "print(new_group['name'])\n",
    "sex_group = []\n",
    "sex_group.append({'sex': new_group['sex']['sexm'], 'name' : 'man'})\n",
    "sex_group.append({'sex' : new_group['sex']['sexw'], 'name' : 'woman'})\n",
    "\n",
    "pd.DataFrame(sex_group).plot.bar(x ='name', y = 'sex', )\n",
    "\n",
    "old_group = []\n",
    "for key, old_stat in new_group['bdate'].items():\n",
    "    old_group.append({'old': old_stat, 'name' : key})\n",
    "pd.DataFrame(old_group).plot.bar(x ='name', y = 'old')"
   ]
  },
  {
   "cell_type": "code",
   "execution_count": 116,
   "metadata": {
    "collapsed": false
   },
   "outputs": [
    {
     "name": "stdout",
     "output_type": "stream",
     "text": [
      "Киномания\n"
     ]
    },
    {
     "data": {
      "text/plain": [
       "<matplotlib.axes._subplots.AxesSubplot at 0x2119ecd5c18>"
      ]
     },
     "execution_count": 116,
     "metadata": {},
     "output_type": "execute_result"
    },
    {
     "data": {
      "image/png": "[encoded data removed]",
      "text/plain": [
       "<matplotlib.figure.Figure at 0x2119ec02278>"
      ]
     },
     "metadata": {},
     "output_type": "display_data"
    },
    {
     "data": {
      "image/png": "[encoded data removed]",
      "text/plain": [
       "<matplotlib.figure.Figure at 0x2119ec10048>"
      ]
     },
     "metadata": {},
     "output_type": "display_data"
    }
   ],
   "source": [
    "# выводим статистику по пятой группе\n",
    "new_group = info_about_person[5]\n",
    "    \n",
    "print(new_group['name'])\n",
    "sex_group = []\n",
    "sex_group.append({'sex': new_group['sex']['sexm'], 'name' : 'man'})\n",
    "sex_group.append({'sex' : new_group['sex']['sexw'], 'name' : 'woman'})\n",
    "\n",
    "pd.DataFrame(sex_group).plot.bar(x ='name', y = 'sex', )\n",
    "\n",
    "old_group = []\n",
    "for key, old_stat in new_group['bdate'].items():\n",
    "    old_group.append({'old': old_stat, 'name' : key})\n",
    "pd.DataFrame(old_group).plot.bar(x ='name', y = 'old')"
   ]
  },
  {
   "cell_type": "code",
   "execution_count": null,
   "metadata": {
    "collapsed": true
   },
   "outputs": [],
   "source": []
  }
 ],
 "metadata": {
  "kernelspec": {
   "display_name": "Python 3",
   "language": "python",
   "name": "python3"
  },
  "language_info": {
   "codemirror_mode": {
    "name": "ipython",
    "version": 3
   },
   "file_extension": ".py",
   "mimetype": "text/x-python",
   "name": "python",
   "nbconvert_exporter": "python",
   "pygments_lexer": "ipython3",
   "version": "3.6.0"
  }
 },
 "nbformat": 4,
 "nbformat_minor": 2
}
