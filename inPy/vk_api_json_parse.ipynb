{
 "cells": [
  {
   "cell_type": "code",
   "execution_count": 115,
   "metadata": {
    "collapsed": true
   },
   "outputs": [],
   "source": [
    "from urllib.parse import urlencode, urlparse\n",
    "import pandas as pd\n",
    "import requests\n",
    "import math\n",
    "import datetime\n",
    "\n",
    "%matplotlib inline"
   ]
  },
  {
   "cell_type": "code",
   "execution_count": 116,
   "metadata": {
    "collapsed": false
   },
   "outputs": [
    {
     "name": "stdout",
     "output_type": "stream",
     "text": [
      "https://oauth.vk.com/authorize?client_id=5854786&display=mobile&response_type=token&scope=friends%2C+groups&v=5.63\n"
     ]
    }
   ],
   "source": [
    "#получаем ссылку для получения токена\n",
    "AUTHORIZE_URL = 'https://oauth.vk.com/authorize'\n",
    "VERSION = '5.63'\n",
    "APP_ID = 5854786\n",
    "\n",
    "auth_data = {\n",
    "    'client_id': APP_ID,\n",
    "    'display': 'mobile',\n",
    "    'response_type': 'token',\n",
    "    'scope': 'friends, groups',\n",
    "    'v': VERSION,\n",
    "}\n",
    "\n",
    "print('?'.join((AUTHORIZE_URL, urlencode(auth_data))))"
   ]
  },
  {
   "cell_type": "code",
   "execution_count": 117,
   "metadata": {
    "collapsed": false
   },
   "outputs": [],
   "source": [
    "# Переходим по полученной ссылке и копируем ее в строку \"token_url\"\n",
    "token_url = #в даннуя сроку \n",
    "\n",
    "o = urlparse(token_url)\n",
    "fragments = dict((i.split('=') for i in o.fragment.split('&')))\n",
    "ACCESS_TOKEN = fragments['access_token']"
   ]
  },
  {
   "cell_type": "code",
   "execution_count": 118,
   "metadata": {
    "collapsed": false
   },
   "outputs": [
    {
     "data": {
      "text/html": [
       "<div>\n",
       "<table border=\"1\" class=\"dataframe\">\n",
       "  <thead>\n",
       "    <tr style=\"text-align: right;\">\n",
       "      <th></th>\n",
       "      <th>count</th>\n",
       "      <th>id</th>\n",
       "      <th>title</th>\n",
       "    </tr>\n",
       "  </thead>\n",
       "  <tbody>\n",
       "    <tr>\n",
       "      <th>0</th>\n",
       "      <td>10</td>\n",
       "      <td>24770985</td>\n",
       "      <td>ФИТ | РГСУ</td>\n",
       "    </tr>\n",
       "    <tr>\n",
       "      <th>1</th>\n",
       "      <td>9</td>\n",
       "      <td>39683739</td>\n",
       "      <td>Официальная страница РГСУ</td>\n",
       "    </tr>\n",
       "    <tr>\n",
       "      <th>2</th>\n",
       "      <td>8</td>\n",
       "      <td>58593098</td>\n",
       "      <td>Подслушано в РГСУ</td>\n",
       "    </tr>\n",
       "    <tr>\n",
       "      <th>3</th>\n",
       "      <td>6</td>\n",
       "      <td>76353235</td>\n",
       "      <td>IST-2014</td>\n",
       "    </tr>\n",
       "    <tr>\n",
       "      <th>4</th>\n",
       "      <td>5</td>\n",
       "      <td>54530371</td>\n",
       "      <td>Библиотека программиста</td>\n",
       "    </tr>\n",
       "    <tr>\n",
       "      <th>5</th>\n",
       "      <td>5</td>\n",
       "      <td>82969684</td>\n",
       "      <td>Сессия ФИТиТБ</td>\n",
       "    </tr>\n",
       "    <tr>\n",
       "      <th>6</th>\n",
       "      <td>5</td>\n",
       "      <td>56106344</td>\n",
       "      <td>Палата №6</td>\n",
       "    </tr>\n",
       "    <tr>\n",
       "      <th>7</th>\n",
       "      <td>5</td>\n",
       "      <td>16108331</td>\n",
       "      <td>Программирование ITmozg:</td>\n",
       "    </tr>\n",
       "    <tr>\n",
       "      <th>8</th>\n",
       "      <td>5</td>\n",
       "      <td>31480508</td>\n",
       "      <td>Пикабу</td>\n",
       "    </tr>\n",
       "    <tr>\n",
       "      <th>9</th>\n",
       "      <td>4</td>\n",
       "      <td>59562476</td>\n",
       "      <td>Признания в РГСУ</td>\n",
       "    </tr>\n",
       "    <tr>\n",
       "      <th>10</th>\n",
       "      <td>4</td>\n",
       "      <td>32015300</td>\n",
       "      <td>Без кота и жизнь не та ツ</td>\n",
       "    </tr>\n",
       "    <tr>\n",
       "      <th>11</th>\n",
       "      <td>4</td>\n",
       "      <td>12382740</td>\n",
       "      <td>ЁП</td>\n",
       "    </tr>\n",
       "    <tr>\n",
       "      <th>12</th>\n",
       "      <td>4</td>\n",
       "      <td>30602036</td>\n",
       "      <td>Подслушано в IGM</td>\n",
       "    </tr>\n",
       "    <tr>\n",
       "      <th>13</th>\n",
       "      <td>4</td>\n",
       "      <td>20845272</td>\n",
       "      <td>Интересная Москва</td>\n",
       "    </tr>\n",
       "    <tr>\n",
       "      <th>14</th>\n",
       "      <td>4</td>\n",
       "      <td>57876954</td>\n",
       "      <td>Vine Video</td>\n",
       "    </tr>\n",
       "    <tr>\n",
       "      <th>15</th>\n",
       "      <td>4</td>\n",
       "      <td>29559271</td>\n",
       "      <td>Science|Наука</td>\n",
       "    </tr>\n",
       "    <tr>\n",
       "      <th>16</th>\n",
       "      <td>4</td>\n",
       "      <td>31976785</td>\n",
       "      <td>Наука и Техника</td>\n",
       "    </tr>\n",
       "    <tr>\n",
       "      <th>17</th>\n",
       "      <td>4</td>\n",
       "      <td>57846937</td>\n",
       "      <td>MDK</td>\n",
       "    </tr>\n",
       "    <tr>\n",
       "      <th>18</th>\n",
       "      <td>3</td>\n",
       "      <td>23243883</td>\n",
       "      <td>Действительно смешно  :]</td>\n",
       "    </tr>\n",
       "    <tr>\n",
       "      <th>19</th>\n",
       "      <td>3</td>\n",
       "      <td>44759043</td>\n",
       "      <td>Just English</td>\n",
       "    </tr>\n",
       "    <tr>\n",
       "      <th>20</th>\n",
       "      <td>3</td>\n",
       "      <td>85503405</td>\n",
       "      <td>РГСЮ</td>\n",
       "    </tr>\n",
       "    <tr>\n",
       "      <th>21</th>\n",
       "      <td>3</td>\n",
       "      <td>51313495</td>\n",
       "      <td>uWebDesign (wordpress, svg, sass, javascript)</td>\n",
       "    </tr>\n",
       "    <tr>\n",
       "      <th>22</th>\n",
       "      <td>3</td>\n",
       "      <td>40567146</td>\n",
       "      <td>Лайфхак</td>\n",
       "    </tr>\n",
       "    <tr>\n",
       "      <th>23</th>\n",
       "      <td>3</td>\n",
       "      <td>40167434</td>\n",
       "      <td>Английский язык</td>\n",
       "    </tr>\n",
       "    <tr>\n",
       "      <th>24</th>\n",
       "      <td>3</td>\n",
       "      <td>31038184</td>\n",
       "      <td>Wylsacom</td>\n",
       "    </tr>\n",
       "    <tr>\n",
       "      <th>25</th>\n",
       "      <td>3</td>\n",
       "      <td>76132198</td>\n",
       "      <td>Stop Fake! | Полезно знать</td>\n",
       "    </tr>\n",
       "    <tr>\n",
       "      <th>26</th>\n",
       "      <td>3</td>\n",
       "      <td>40316705</td>\n",
       "      <td>Новости RT на русском</td>\n",
       "    </tr>\n",
       "    <tr>\n",
       "      <th>27</th>\n",
       "      <td>3</td>\n",
       "      <td>43948962</td>\n",
       "      <td>JavaRush</td>\n",
       "    </tr>\n",
       "    <tr>\n",
       "      <th>28</th>\n",
       "      <td>3</td>\n",
       "      <td>387766</td>\n",
       "      <td>Игромания</td>\n",
       "    </tr>\n",
       "    <tr>\n",
       "      <th>29</th>\n",
       "      <td>3</td>\n",
       "      <td>105185648</td>\n",
       "      <td>Мечтатели</td>\n",
       "    </tr>\n",
       "    <tr>\n",
       "      <th>...</th>\n",
       "      <td>...</td>\n",
       "      <td>...</td>\n",
       "      <td>...</td>\n",
       "    </tr>\n",
       "    <tr>\n",
       "      <th>69</th>\n",
       "      <td>2</td>\n",
       "      <td>28229175</td>\n",
       "      <td>Странный юмор™</td>\n",
       "    </tr>\n",
       "    <tr>\n",
       "      <th>70</th>\n",
       "      <td>2</td>\n",
       "      <td>66348390</td>\n",
       "      <td>Игроман</td>\n",
       "    </tr>\n",
       "    <tr>\n",
       "      <th>71</th>\n",
       "      <td>2</td>\n",
       "      <td>86747483</td>\n",
       "      <td>Секреты Жизни  | Советы</td>\n",
       "    </tr>\n",
       "    <tr>\n",
       "      <th>72</th>\n",
       "      <td>2</td>\n",
       "      <td>23064236</td>\n",
       "      <td>Четкие Приколы</td>\n",
       "    </tr>\n",
       "    <tr>\n",
       "      <th>73</th>\n",
       "      <td>2</td>\n",
       "      <td>39500620</td>\n",
       "      <td>Ложь пабликов ВК | ЛПВК</td>\n",
       "    </tr>\n",
       "    <tr>\n",
       "      <th>74</th>\n",
       "      <td>2</td>\n",
       "      <td>61912980</td>\n",
       "      <td>Наука и техника</td>\n",
       "    </tr>\n",
       "    <tr>\n",
       "      <th>75</th>\n",
       "      <td>2</td>\n",
       "      <td>29302425</td>\n",
       "      <td>Шедевры рекламы</td>\n",
       "    </tr>\n",
       "    <tr>\n",
       "      <th>76</th>\n",
       "      <td>2</td>\n",
       "      <td>47679753</td>\n",
       "      <td>Smart - умный журнал!</td>\n",
       "    </tr>\n",
       "    <tr>\n",
       "      <th>77</th>\n",
       "      <td>2</td>\n",
       "      <td>243849</td>\n",
       "      <td>Модель Для Сборки Online</td>\n",
       "    </tr>\n",
       "    <tr>\n",
       "      <th>78</th>\n",
       "      <td>2</td>\n",
       "      <td>76314525</td>\n",
       "      <td>Хитрости жизни</td>\n",
       "    </tr>\n",
       "    <tr>\n",
       "      <th>79</th>\n",
       "      <td>2</td>\n",
       "      <td>40836944</td>\n",
       "      <td>Just Art</td>\n",
       "    </tr>\n",
       "    <tr>\n",
       "      <th>80</th>\n",
       "      <td>2</td>\n",
       "      <td>30525261</td>\n",
       "      <td>Psychology|Психология</td>\n",
       "    </tr>\n",
       "    <tr>\n",
       "      <th>81</th>\n",
       "      <td>2</td>\n",
       "      <td>29370288</td>\n",
       "      <td>RPG Humor / РПГ Юмор</td>\n",
       "    </tr>\n",
       "    <tr>\n",
       "      <th>82</th>\n",
       "      <td>2</td>\n",
       "      <td>30666517</td>\n",
       "      <td>Типичный программист</td>\n",
       "    </tr>\n",
       "    <tr>\n",
       "      <th>83</th>\n",
       "      <td>2</td>\n",
       "      <td>25397178</td>\n",
       "      <td>Мужские мысли</td>\n",
       "    </tr>\n",
       "    <tr>\n",
       "      <th>84</th>\n",
       "      <td>2</td>\n",
       "      <td>947906</td>\n",
       "      <td>Blender 3D — Свободный редактор 3D-графики</td>\n",
       "    </tr>\n",
       "    <tr>\n",
       "      <th>85</th>\n",
       "      <td>2</td>\n",
       "      <td>79616535</td>\n",
       "      <td>Центр студенческого предпринимательства РГСУ</td>\n",
       "    </tr>\n",
       "    <tr>\n",
       "      <th>86</th>\n",
       "      <td>2</td>\n",
       "      <td>30598666</td>\n",
       "      <td>Как это переводится, Чувак?</td>\n",
       "    </tr>\n",
       "    <tr>\n",
       "      <th>87</th>\n",
       "      <td>2</td>\n",
       "      <td>36965584</td>\n",
       "      <td>batya</td>\n",
       "    </tr>\n",
       "    <tr>\n",
       "      <th>88</th>\n",
       "      <td>2</td>\n",
       "      <td>85233853</td>\n",
       "      <td>Общественное движение «Добрая Москва»</td>\n",
       "    </tr>\n",
       "    <tr>\n",
       "      <th>89</th>\n",
       "      <td>2</td>\n",
       "      <td>28261334</td>\n",
       "      <td>TJ</td>\n",
       "    </tr>\n",
       "    <tr>\n",
       "      <th>90</th>\n",
       "      <td>2</td>\n",
       "      <td>43256857</td>\n",
       "      <td>Настоящие©</td>\n",
       "    </tr>\n",
       "    <tr>\n",
       "      <th>91</th>\n",
       "      <td>2</td>\n",
       "      <td>83484759</td>\n",
       "      <td>Геймеры</td>\n",
       "    </tr>\n",
       "    <tr>\n",
       "      <th>92</th>\n",
       "      <td>2</td>\n",
       "      <td>25752703</td>\n",
       "      <td>World of History</td>\n",
       "    </tr>\n",
       "    <tr>\n",
       "      <th>93</th>\n",
       "      <td>2</td>\n",
       "      <td>29719573</td>\n",
       "      <td>Men's Concept - Мужской журнал</td>\n",
       "    </tr>\n",
       "    <tr>\n",
       "      <th>94</th>\n",
       "      <td>2</td>\n",
       "      <td>78747047</td>\n",
       "      <td>Студенческий совет-Сенат РГСУ</td>\n",
       "    </tr>\n",
       "    <tr>\n",
       "      <th>95</th>\n",
       "      <td>2</td>\n",
       "      <td>23098699</td>\n",
       "      <td>Стоп-кадр</td>\n",
       "    </tr>\n",
       "    <tr>\n",
       "      <th>96</th>\n",
       "      <td>2</td>\n",
       "      <td>34137285</td>\n",
       "      <td>О чем говорят мужчины</td>\n",
       "    </tr>\n",
       "    <tr>\n",
       "      <th>97</th>\n",
       "      <td>2</td>\n",
       "      <td>23433159</td>\n",
       "      <td>Трахни Нормальность</td>\n",
       "    </tr>\n",
       "    <tr>\n",
       "      <th>98</th>\n",
       "      <td>2</td>\n",
       "      <td>24632746</td>\n",
       "      <td>Два Пальца</td>\n",
       "    </tr>\n",
       "  </tbody>\n",
       "</table>\n",
       "<p>99 rows × 3 columns</p>\n",
       "</div>"
      ],
      "text/plain": [
       "    count         id                                          title\n",
       "0      10   24770985                                     ФИТ | РГСУ\n",
       "1       9   39683739                      Официальная страница РГСУ\n",
       "2       8   58593098                              Подслушано в РГСУ\n",
       "3       6   76353235                                       IST-2014\n",
       "4       5   54530371                        Библиотека программиста\n",
       "5       5   82969684                                  Сессия ФИТиТБ\n",
       "6       5   56106344                                      Палата №6\n",
       "7       5   16108331                       Программирование ITmozg:\n",
       "8       5   31480508                                         Пикабу\n",
       "9       4   59562476                               Признания в РГСУ\n",
       "10      4   32015300                       Без кота и жизнь не та ツ\n",
       "11      4   12382740                                             ЁП\n",
       "12      4   30602036                               Подслушано в IGM\n",
       "13      4   20845272                              Интересная Москва\n",
       "14      4   57876954                                     Vine Video\n",
       "15      4   29559271                                  Science|Наука\n",
       "16      4   31976785                                Наука и Техника\n",
       "17      4   57846937                                            MDK\n",
       "18      3   23243883                       Действительно смешно  :]\n",
       "19      3   44759043                                   Just English\n",
       "20      3   85503405                                           РГСЮ\n",
       "21      3   51313495  uWebDesign (wordpress, svg, sass, javascript)\n",
       "22      3   40567146                                        Лайфхак\n",
       "23      3   40167434                                Английский язык\n",
       "24      3   31038184                                       Wylsacom\n",
       "25      3   76132198                     Stop Fake! | Полезно знать\n",
       "26      3   40316705                          Новости RT на русском\n",
       "27      3   43948962                                       JavaRush\n",
       "28      3     387766                                      Игромания\n",
       "29      3  105185648                                      Мечтатели\n",
       "..    ...        ...                                            ...\n",
       "69      2   28229175                                 Странный юмор™\n",
       "70      2   66348390                                        Игроман\n",
       "71      2   86747483                        Секреты Жизни  | Советы\n",
       "72      2   23064236                                 Четкие Приколы\n",
       "73      2   39500620                        Ложь пабликов ВК | ЛПВК\n",
       "74      2   61912980                                Наука и техника\n",
       "75      2   29302425                                Шедевры рекламы\n",
       "76      2   47679753                          Smart - умный журнал!\n",
       "77      2     243849                       Модель Для Сборки Online\n",
       "78      2   76314525                                 Хитрости жизни\n",
       "79      2   40836944                                       Just Art\n",
       "80      2   30525261                          Psychology|Психология\n",
       "81      2   29370288                           RPG Humor / РПГ Юмор\n",
       "82      2   30666517                           Типичный программист\n",
       "83      2   25397178                                  Мужские мысли\n",
       "84      2     947906     Blender 3D — Свободный редактор 3D-графики\n",
       "85      2   79616535   Центр студенческого предпринимательства РГСУ\n",
       "86      2   30598666                    Как это переводится, Чувак?\n",
       "87      2   36965584                                          batya\n",
       "88      2   85233853          Общественное движение «Добрая Москва»\n",
       "89      2   28261334                                             TJ\n",
       "90      2   43256857                                     Настоящие©\n",
       "91      2   83484759                                        Геймеры\n",
       "92      2   25752703                               World of History\n",
       "93      2   29719573                 Men's Concept - Мужской журнал\n",
       "94      2   78747047                  Студенческий совет-Сенат РГСУ\n",
       "95      2   23098699                                      Стоп-кадр\n",
       "96      2   34137285                          О чем говорят мужчины\n",
       "97      2   23433159                            Трахни Нормальность\n",
       "98      2   24632746                                     Два Пальца\n",
       "\n",
       "[99 rows x 3 columns]"
      ]
     },
     "execution_count": 118,
     "metadata": {},
     "output_type": "execute_result"
    }
   ],
   "source": [
    "file_path = #вводим путь к сохраненному файлу напр. 'C:/Users/Anton/Desktop/python/net/vk-bot/top100.json'\n",
    "top_group_selebrity = pd.read_json(file_path, encoding=\"utf-8\" )\n",
    "top_group_selebrity"
   ]
  },
  {
   "cell_type": "code",
   "execution_count": 119,
   "metadata": {
    "collapsed": true
   },
   "outputs": [],
   "source": [
    "info_about_group = {}\n",
    "for top_group in top_group_selebrity['id'].head(5):\n",
    "    params = {'access_token': ACCESS_TOKEN,\n",
    "              'group_id' : top_group,\n",
    "              'v': VERSION}\n",
    "    \n",
    "    response_follover_group = requests.get('https://api.vk.com/method/stats.get', params)\n",
    "\n"
   ]
  },
  {
   "cell_type": "code",
   "execution_count": 122,
   "metadata": {
    "collapsed": false
   },
   "outputs": [
    {
     "data": {
      "text/plain": [
       "{1: {'bdate': {'0-10': 0, '11-17': 7, '18-23': 330, '24-35': 63, '36-...': 16},\n",
       "  'id': 24770985,\n",
       "  'sex': {'sexm': 624, 'sexw': 575}},\n",
       " 2: {'bdate': {'0-10': 0,\n",
       "   '11-17': 162,\n",
       "   '18-23': 3134,\n",
       "   '24-35': 1641,\n",
       "   '36-...': 448},\n",
       "  'id': 39683739,\n",
       "  'sex': {'sexm': 4631, 'sexw': 11167}},\n",
       " 3: {'bdate': {'0-10': 0,\n",
       "   '11-17': 66,\n",
       "   '18-23': 2310,\n",
       "   '24-35': 622,\n",
       "   '36-...': 173},\n",
       "  'id': 58593098,\n",
       "  'sex': {'sexm': 2964, 'sexw': 6085}},\n",
       " 4: {'bdate': {'0-10': 0, '11-17': 0, '18-23': 7, '24-35': 1, '36-...': 1},\n",
       "  'id': 76353235,\n",
       "  'sex': {'sexm': 14, 'sexw': 7}},\n",
       " 5: {'bdate': {'0-10': 0,\n",
       "   '11-17': 4443,\n",
       "   '18-23': 31926,\n",
       "   '24-35': 29873,\n",
       "   '36-...': 6172},\n",
       "  'id': 54530371,\n",
       "  'sex': {'sexm': 162479, 'sexw': 46252}}}"
      ]
     },
     "execution_count": 122,
     "metadata": {},
     "output_type": "execute_result"
    }
   ],
   "source": [
    "def parse_info_stat(top_group, follovers):\n",
    "    info_about_person = {}\n",
    "    sex = {}\n",
    "    sexm = 0\n",
    "    sexw = 0\n",
    "    bdate = {}\n",
    "    bdate_10 = 0\n",
    "    bdate_17 = 0\n",
    "    bdate_23 = 0\n",
    "    bdate_35 = 0\n",
    "    bdate_36 = 0\n",
    "    for people in follovers:\n",
    "        try:\n",
    "            if(people['sex'] == 2):\n",
    "                sexm += 1\n",
    "            else:\n",
    "                sexw += 1 \n",
    "                \n",
    "            try:\n",
    "                dat_birthday = people['bdate'].split('.')\n",
    "                delt_time = datetime.datetime.now() - datetime.datetime(int(dat_birthday[2]), int(dat_birthday[1]), int(dat_birthday[0]))                                                                                       \n",
    "                years = math.floor(delt_time.days/365)\n",
    "\n",
    "                if(years <= 10):\n",
    "                    bdate_10 += 1\n",
    "                elif(10 < years < 18):\n",
    "                    bdate_17 += 1\n",
    "                elif(18 <= years < 24):\n",
    "                    bdate_23 += 1\n",
    "                elif(24 <= years <36):\n",
    "                    bdate_35 += 1\n",
    "                elif(36 <= years):\n",
    "                    bdate_36 += 1\n",
    "            except IndexError:\n",
    "                pass\n",
    "            except ValueError:\n",
    "                pass\n",
    "            \n",
    "        except KeyError:\n",
    "            pass      \n",
    "        \n",
    "        \n",
    "    sex = {'sexm': sexm, 'sexw': sexw}\n",
    "    bdate = {'0-10': bdate_10, '11-17': bdate_17, '18-23': bdate_23, '24-35': bdate_35, '36-...': bdate_36}\n",
    "    info_about_person = {'id' : top_group, 'sex': sex, 'bdate': bdate}\n",
    "    return info_about_person\n",
    "    \n",
    "\n",
    "def get_add_info_about_group(group, count_step, follovers):\n",
    "    offset=1000\n",
    "    while(count_step>1):\n",
    "        count_step = count_step - 1\n",
    "        params = {'access_token': ACCESS_TOKEN,\n",
    "                  'group_id' : group,\n",
    "                  'fields' : 'sex, bdate',\n",
    "                  'count' : 1000,\n",
    "                  'offset' : offset,\n",
    "                  'v': VERSION}\n",
    "\n",
    "        response = requests.get('https://api.vk.com/method/groups.getMembers', params)\n",
    "        offset += 1000\n",
    "        try:\n",
    "            follovers += response.json()['response']['items']\n",
    "        except KeyError:\n",
    "            count_step = count_step + 1\n",
    "            offset -= 1000\n",
    "    return follovers\n",
    "        \n",
    "        \n",
    "def get_info_people_in_group(group):\n",
    "    params = {'access_token': ACCESS_TOKEN,\n",
    "              'group_id' : group,\n",
    "              'fields' : 'sex, bdate',\n",
    "              'v': VERSION}\n",
    "    \n",
    "    response = requests.get('https://api.vk.com/method/groups.getMembers', params)\n",
    "    follovers = response.json()['response']['items']\n",
    "    response_count = response.json()['response']['count']\n",
    "    count_step = math.ceil(response_count/1000)\n",
    "    if (count_step > 1):\n",
    "        return get_add_info_about_group(group, count_step, follovers)\n",
    "    return follovers\n",
    "\n",
    "count_group = 0\n",
    "info_about_group = {}\n",
    "for top_group in top_group_selebrity['id'].head(5):\n",
    "    count_group += 1\n",
    "    follovers = get_info_people_in_group(top_group)\n",
    "    info_about_group[count_group] = parse_info_stat(top_group, follovers)\n",
    "    \n",
    "info_about_group    "
   ]
  },
  {
   "cell_type": "code",
   "execution_count": 123,
   "metadata": {
    "collapsed": false
   },
   "outputs": [
    {
     "data": {
      "text/plain": [
       "<matplotlib.axes._subplots.AxesSubplot at 0x1d0c63eb208>"
      ]
     },
     "execution_count": 123,
     "metadata": {},
     "output_type": "execute_result"
    },
    {
     "data": {
      "image/png": "[encoded data removed]",
      "text/plain": [
       "<matplotlib.figure.Figure at 0x1d1468c5d30>"
      ]
     },
     "metadata": {},
     "output_type": "display_data"
    }
   ],
   "source": [
    "top_group_selebrity.head(10).plot.bar(y ='count', x = 'title')"
   ]
  },
  {
   "cell_type": "code",
   "execution_count": 132,
   "metadata": {
    "collapsed": false
   },
   "outputs": [
    {
     "name": "stdout",
     "output_type": "stream",
     "text": [
      "24770985\n"
     ]
    },
    {
     "data": {
      "text/plain": [
       "<matplotlib.axes._subplots.AxesSubplot at 0x1d082172cf8>"
      ]
     },
     "execution_count": 132,
     "metadata": {},
     "output_type": "execute_result"
    },
    {
     "data": {
      "image/png": "[encoded data removed]",
      "text/plain": [
       "<matplotlib.figure.Figure at 0x1d082172ba8>"
      ]
     },
     "metadata": {},
     "output_type": "display_data"
    },
    {
     "data": {
      "image/png": "[encoded data removed]",
      "text/plain": [
       "<matplotlib.figure.Figure at 0x1d0821f36d8>"
      ]
     },
     "metadata": {},
     "output_type": "display_data"
    }
   ],
   "source": [
    "# выводим статистику по первой группе\n",
    "new_group = info_about_group[1]\n",
    "\n",
    "print(new_group['id'])\n",
    "sex_group = []\n",
    "sex_group.append({'sex': new_group['sex']['sexm'], 'name' : 'man'})\n",
    "sex_group.append({'sex' : new_group['sex']['sexw'], 'name' : 'woman'})\n",
    "\n",
    "pd.DataFrame(sex_group).plot.bar(x ='name', y = 'sex', )\n",
    "\n",
    "old_group = []\n",
    "for key, old_stat in new_group['bdate'].items():\n",
    "    old_group.append({'old': old_stat, 'name' : key})\n",
    "pd.DataFrame(old_group).plot.bar(x ='name', y = 'old')"
   ]
  },
  {
   "cell_type": "code",
   "execution_count": 135,
   "metadata": {
    "collapsed": false
   },
   "outputs": [
    {
     "name": "stdout",
     "output_type": "stream",
     "text": [
      "39683739\n"
     ]
    },
    {
     "data": {
      "text/plain": [
       "<matplotlib.axes._subplots.AxesSubplot at 0x1d0c03825f8>"
      ]
     },
     "execution_count": 135,
     "metadata": {},
     "output_type": "execute_result"
    },
    {
     "data": {
      "image/png": "[encoded data removed]",
      "text/plain": [
       "<matplotlib.figure.Figure at 0x1d0821fceb8>"
      ]
     },
     "metadata": {},
     "output_type": "display_data"
    },
    {
     "data": {
      "image/png": "[encoded data removed]",
      "text/plain": [
       "<matplotlib.figure.Figure at 0x1d146d89e48>"
      ]
     },
     "metadata": {},
     "output_type": "display_data"
    }
   ],
   "source": [
    "# выводим статистику по второй группе\n",
    "new_group = info_about_group[2]\n",
    "\n",
    "print(new_group['id'])\n",
    "sex_group = []\n",
    "sex_group.append({'sex': new_group['sex']['sexm'], 'name' : 'man'})\n",
    "sex_group.append({'sex' : new_group['sex']['sexw'], 'name' : 'woman'})\n",
    "\n",
    "pd.DataFrame(sex_group).plot.bar(x ='name', y = 'sex', )\n",
    "\n",
    "old_group = []\n",
    "for key, old_stat in new_group['bdate'].items():\n",
    "    old_group.append({'old': old_stat, 'name' : key})\n",
    "pd.DataFrame(old_group).plot.bar(x ='name', y = 'old')"
   ]
  },
  {
   "cell_type": "code",
   "execution_count": 136,
   "metadata": {
    "collapsed": false
   },
   "outputs": [
    {
     "name": "stdout",
     "output_type": "stream",
     "text": [
      "58593098\n"
     ]
    },
    {
     "data": {
      "text/plain": [
       "<matplotlib.axes._subplots.AxesSubplot at 0x1d14b3d1ef0>"
      ]
     },
     "execution_count": 136,
     "metadata": {},
     "output_type": "execute_result"
    },
    {
     "data": {
      "image/png": "[encoded data removed]",
      "text/plain": [
       "<matplotlib.figure.Figure at 0x1d1499e05c0>"
      ]
     },
     "metadata": {},
     "output_type": "display_data"
    },
    {
     "data": {
      "image/png": "[encoded data removed]",
      "text/plain": [
       "<matplotlib.figure.Figure at 0x1d1b194a1d0>"
      ]
     },
     "metadata": {},
     "output_type": "display_data"
    }
   ],
   "source": [
    "# выводим статистику по третьей группе\n",
    "new_group = info_about_group[3]\n",
    "\n",
    "print(new_group['id'])\n",
    "sex_group = []\n",
    "sex_group.append({'sex': new_group['sex']['sexm'], 'name' : 'man'})\n",
    "sex_group.append({'sex' : new_group['sex']['sexw'], 'name' : 'woman'})\n",
    "\n",
    "pd.DataFrame(sex_group).plot.bar(x ='name', y = 'sex', )\n",
    "\n",
    "old_group = []\n",
    "for key, old_stat in new_group['bdate'].items():\n",
    "    old_group.append({'old': old_stat, 'name' : key})\n",
    "pd.DataFrame(old_group).plot.bar(x ='name', y = 'old')"
   ]
  },
  {
   "cell_type": "code",
   "execution_count": 137,
   "metadata": {
    "collapsed": false
   },
   "outputs": [
    {
     "name": "stdout",
     "output_type": "stream",
     "text": [
      "76353235\n"
     ]
    },
    {
     "data": {
      "text/plain": [
       "<matplotlib.axes._subplots.AxesSubplot at 0x1d146c17908>"
      ]
     },
     "execution_count": 137,
     "metadata": {},
     "output_type": "execute_result"
    },
    {
     "data": {
      "image/png": "[encoded data removed]",
      "text/plain": [
       "<matplotlib.figure.Figure at 0x1d14b356400>"
      ]
     },
     "metadata": {},
     "output_type": "display_data"
    },
    {
     "data": {
      "image/png": "[encoded data removed]",
      "text/plain": [
       "<matplotlib.figure.Figure at 0x1d146bf82e8>"
      ]
     },
     "metadata": {},
     "output_type": "display_data"
    }
   ],
   "source": [
    "# выводим статистику по четвертой группе\n",
    "new_group = info_about_group[4]\n",
    "\n",
    "print(new_group['id'])\n",
    "sex_group = []\n",
    "sex_group.append({'sex': new_group['sex']['sexm'], 'name' : 'man'})\n",
    "sex_group.append({'sex' : new_group['sex']['sexw'], 'name' : 'woman'})\n",
    "\n",
    "pd.DataFrame(sex_group).plot.bar(x ='name', y = 'sex', )\n",
    "\n",
    "old_group = []\n",
    "for key, old_stat in new_group['bdate'].items():\n",
    "    old_group.append({'old': old_stat, 'name' : key})\n",
    "pd.DataFrame(old_group).plot.bar(x ='name', y = 'old')"
   ]
  },
  {
   "cell_type": "code",
   "execution_count": 138,
   "metadata": {
    "collapsed": false
   },
   "outputs": [
    {
     "name": "stdout",
     "output_type": "stream",
     "text": [
      "54530371\n"
     ]
    },
    {
     "data": {
      "text/plain": [
       "<matplotlib.axes._subplots.AxesSubplot at 0x1d14727d3c8>"
      ]
     },
     "execution_count": 138,
     "metadata": {},
     "output_type": "execute_result"
    },
    {
     "data": {
      "image/png": "[encoded data removed]",
      "text/plain": [
       "<matplotlib.figure.Figure at 0x1d0ebf67588>"
      ]
     },
     "metadata": {},
     "output_type": "display_data"
    },
    {
     "data": {
      "image/png": "[encoded data removed]",
      "text/plain": [
       "<matplotlib.figure.Figure at 0x1d146b90cc0>"
      ]
     },
     "metadata": {},
     "output_type": "display_data"
    }
   ],
   "source": [
    "# выводим статистику по пятой группе\n",
    "new_group = info_about_group[5]\n",
    "\n",
    "print(new_group['id'])\n",
    "sex_group = []\n",
    "sex_group.append({'sex': new_group['sex']['sexm'], 'name' : 'man'})\n",
    "sex_group.append({'sex' : new_group['sex']['sexw'], 'name' : 'woman'})\n",
    "\n",
    "pd.DataFrame(sex_group).plot.bar(x ='name', y = 'sex', )\n",
    "\n",
    "old_group = []\n",
    "for key, old_stat in new_group['bdate'].items():\n",
    "    old_group.append({'old': old_stat, 'name' : key})\n",
    "pd.DataFrame(old_group).plot.bar(x ='name', y = 'old')"
   ]
  }
 ],
 "metadata": {
  "kernelspec": {
   "display_name": "Python 3",
   "language": "python",
   "name": "python3"
  },
  "language_info": {
   "codemirror_mode": {
    "name": "ipython",
    "version": 3
   },
   "file_extension": ".py",
   "mimetype": "text/x-python",
   "name": "python",
   "nbconvert_exporter": "python",
   "pygments_lexer": "ipython3",
   "version": "3.6.0"
  }
 },
 "nbformat": 4,
 "nbformat_minor": 2
}
